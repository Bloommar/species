{
 "cells": [
  {
   "cell_type": "markdown",
   "metadata": {},
   "source": [
    "# Flux calibration"
   ]
  },
  {
   "cell_type": "markdown",
   "metadata": {},
   "source": [
    "Photometric and spectroscopic measurements of directly imaged planets typically provide the flux contrast between the companion and star. To calibrate the contrast of the companion to a flux or apparent magnitude requires an absolute measurement of the stellar flux.\n",
    "\n",
    "In this tutorial, we will we will fit the [2MASS](https://irsa.ipac.caltech.edu/Missions/2mass.html) magnitudes of the G7 type star [PZ Tel](http://simbad.u-strasbg.fr/simbad/sim-basic?Ident=PZ+Tel) with the BT-NextGen model spectra. From the posterior samples, we will then compute synthetic photometry for the [VLT/NACO M' filter](http://svo2.cab.inta-csic.es/svo/theory/fps/index.php?id=Paranal/NACO.Mp&&mode=browse&gname=Paranal&gname2=NACO#filter) and a synthetic spectrum for a given instrument resolution and wavelength binning."
   ]
  },
  {
   "cell_type": "markdown",
   "metadata": {},
   "source": [
    "## Getting started"
   ]
  },
  {
   "cell_type": "markdown",
   "metadata": {},
   "source": [
    "We start by importing the required Python modules."
   ]
  },
  {
   "cell_type": "code",
   "execution_count": 1,
   "metadata": {},
   "outputs": [],
   "source": [
    "import numpy as np\n",
    "import species"
   ]
  },
  {
   "cell_type": "markdown",
   "metadata": {},
   "source": [
    "Next, we initiate the workflow by calling the [SpeciesInit](https://species.readthedocs.io/en/latest/species.core.html#species.core.init.SpeciesInit) class. This will create both the [HDF5 database](https://species.readthedocs.io/en/latest/database.html) and the [configuration file](https://species.readthedocs.io/en/latest/configuration.html) in the working folder."
   ]
  },
  {
   "cell_type": "code",
   "execution_count": 2,
   "metadata": {},
   "outputs": [
    {
     "name": "stdout",
     "output_type": "stream",
     "text": [
      "Initiating species v0.5.1... [DONE]\n",
      "Creating species_config.ini... [DONE]\n",
      "Database: /Users/tomasstolker/applications/species/docs/tutorials/species_database.hdf5\n",
      "Data folder: /Users/tomasstolker/applications/species/docs/tutorials/data\n",
      "Working folder: /Users/tomasstolker/applications/species/docs/tutorials\n",
      "Creating species_database.hdf5... [DONE]\n",
      "Creating data folder... [DONE]\n"
     ]
    },
    {
     "data": {
      "text/plain": [
       "<species.core.init.SpeciesInit at 0x14f9e60e0>"
      ]
     },
     "execution_count": 2,
     "metadata": {},
     "output_type": "execute_result"
    }
   ],
   "source": [
    "species.SpeciesInit()"
   ]
  },
  {
   "cell_type": "markdown",
   "metadata": {},
   "source": [
    "We then create an instance of [Database](https://species.readthedocs.io/en/latest/species.data.html#species.data.database.Database), which provides read and write access to the HDF5 database."
   ]
  },
  {
   "cell_type": "code",
   "execution_count": 3,
   "metadata": {},
   "outputs": [],
   "source": [
    "database = species.Database()"
   ]
  },
  {
   "cell_type": "markdown",
   "metadata": {},
   "source": [
    "We also create a tuple with the [Gaia EDR3](http://simbad.cds.unistra.fr/simbad/sim-ref?bibcode=2020yCat.1350....0G) parallax of [PZ Tel](http://simbad.u-strasbg.fr/simbad/sim-basic?Ident=PZ+Tel)."
   ]
  },
  {
   "cell_type": "code",
   "execution_count": 4,
   "metadata": {},
   "outputs": [],
   "source": [
    "parallax = (21.1621, 0.0223)  # (mas)"
   ]
  },
  {
   "cell_type": "markdown",
   "metadata": {},
   "source": [
    "And a dictionary with the [2MASS](https://irsa.ipac.caltech.edu/Missions/2mass.html) magnitudes."
   ]
  },
  {
   "cell_type": "code",
   "execution_count": 5,
   "metadata": {},
   "outputs": [],
   "source": [
    "magnitudes = {'2MASS/2MASS.J': (6.856, 0.021),\n",
    "              '2MASS/2MASS.H': (6.486, 0.049),\n",
    "              '2MASS/2MASS.Ks': (6.366, 0.024)}"
   ]
  },
  {
   "cell_type": "markdown",
   "metadata": {},
   "source": [
    "We also create a list of the filter names for use later on."
   ]
  },
  {
   "cell_type": "code",
   "execution_count": 6,
   "metadata": {},
   "outputs": [],
   "source": [
    "filters = list(magnitudes.keys())"
   ]
  },
  {
   "cell_type": "markdown",
   "metadata": {},
   "source": [
    "## Adding stellar photometry"
   ]
  },
  {
   "cell_type": "markdown",
   "metadata": {},
   "source": [
    "We can now store the parallax and magnitudes of PZ Tel in the database by using the [add_object](https://species.readthedocs.io/en/latest/species.data.html#species.data.database.Database.add_object) method. This will also download a flux-calibrated spectrum of Vega and convert the magnitudes into fluxes."
   ]
  },
  {
   "cell_type": "code",
   "execution_count": 7,
   "metadata": {},
   "outputs": [
    {
     "name": "stdout",
     "output_type": "stream",
     "text": [
      "Downloading Vega spectrum (270 kB)... [DONE]\n",
      "Adding Vega spectrum... [DONE]\n",
      "Adding filter: 2MASS/2MASS.J... [DONE]\n",
      "Adding filter: 2MASS/2MASS.H... [DONE]\n",
      "Adding filter: 2MASS/2MASS.Ks... [DONE]\n",
      "Adding object: PZ Tel\n",
      "   - Parallax (mas) = 21.16 +/- 0.02\n",
      "   - 2MASS/2MASS.J:\n",
      "      - Apparent magnitude = 6.86 +/- 0.02\n",
      "      - Flux (W m-2 um-1) = 5.81e-12 +/- 1.12e-13\n",
      "   - 2MASS/2MASS.H:\n",
      "      - Apparent magnitude = 6.49 +/- 0.05\n",
      "      - Flux (W m-2 um-1) = 2.98e-12 +/- 1.34e-13\n",
      "   - 2MASS/2MASS.Ks:\n",
      "      - Apparent magnitude = 6.37 +/- 0.02\n",
      "      - Flux (W m-2 um-1) = 1.25e-12 +/- 2.76e-14\n"
     ]
    }
   ],
   "source": [
    "database.add_object(object_name='PZ Tel',\n",
    "                    parallax=parallax,\n",
    "                    app_mag=magnitudes,\n",
    "                    spectrum=None)"
   ]
  },
  {
   "cell_type": "markdown",
   "metadata": {},
   "source": [
    "## Adding a grid of model spectra"
   ]
  },
  {
   "cell_type": "markdown",
   "metadata": {},
   "source": [
    "Next, we will download the BT-NextGen grid and add the spectra of a limited $T_\\mathrm{eff}$ range to the database."
   ]
  },
  {
   "cell_type": "code",
   "execution_count": 8,
   "metadata": {},
   "outputs": [
    {
     "name": "stdout",
     "output_type": "stream",
     "text": [
      "Downloading BT-NextGen model spectra (368 MB)... [DONE]\n",
      "Unpacking BT-NextGen model spectra (368 MB)... [DONE]\n",
      "Wavelength range (um) = 0.1 - 50\n",
      "Spectral resolution = 4000\n",
      "Teff range (K) = 4500.0 - 5500.0\n",
      "Adding BT-NextGen model spectra... [DONE]                                        \n",
      "Grid points stored in the database:\n",
      "   - Teff = [4500. 4600. 4700. 4800. 4900. 5000. 5100. 5200. 5300. 5400. 5500.]\n",
      "   - log(g) = [3. 4. 5.]\n",
      "   - [Fe/H] = [0.  0.3 0.5]\n"
     ]
    }
   ],
   "source": [
    "database.add_model('bt-nextgen', teff_range=(4500., 5500.))"
   ]
  },
  {
   "cell_type": "markdown",
   "metadata": {},
   "source": [
    "## Fitting the 2MASS fluxes with the calibration spectrum"
   ]
  },
  {
   "cell_type": "markdown",
   "metadata": {},
   "source": [
    "Now that we have prepared the database, we can fit the photometric fluxes with the model grid. To do so, we use the [FitModel](https://species.readthedocs.io/en/latest/species.analysis.html#species.analysis.fit_model.FitModel) class, which provides a Bayesian framework for parameter estimation. The argument of `bounds` contains a dictionary with the priors that are used. In this example, we fix $T_\\mathrm{eff}$, $\\log(g)$, and $[\\mathrm{Fe}/\\mathrm{H}]$, so we effectively scale the model spectrum to the data by adjusting the distance and radius. We will also account for a instrument-specific error inflation, relative to the actual uncertainties on the 2MASS fluxes. Finally, the parallax is automatically included with a Gaussian prior."
   ]
  },
  {
   "cell_type": "code",
   "execution_count": 9,
   "metadata": {},
   "outputs": [
    {
     "name": "stdout",
     "output_type": "stream",
     "text": [
      "Getting object: PZ Tel... [DONE]\n",
      "Interpolating 2MASS/2MASS.H... [DONE]\n",
      "Interpolating 2MASS/2MASS.J... [DONE]\n",
      "Interpolating 2MASS/2MASS.Ks... [DONE]\n",
      "Fixing 3 parameters:\n",
      "   - teff = 5000.0\n",
      "   - logg = 4.0\n",
      "   - feh = 0.0\n",
      "Fitting 3 parameters:\n",
      "   - radius\n",
      "   - parallax\n",
      "   - 2MASS/2MASS_error\n",
      "Prior boundaries:\n",
      "   - radius = (1.0, 20.0)\n",
      "   - 2MASS/2MASS_error = (0.0, 1.0)\n",
      "Weights for the log-likelihood function:\n",
      "   - 2MASS/2MASS.H = 1.00e+00\n",
      "   - 2MASS/2MASS.J = 1.00e+00\n",
      "   - 2MASS/2MASS.Ks = 1.00e+00\n"
     ]
    }
   ],
   "source": [
    "fit = species.FitModel(object_name='PZ Tel',\n",
    "                       model='bt-nextgen',\n",
    "                       bounds={'teff': (5000., 5000.),\n",
    "                               'logg': (4., 4.),\n",
    "                               'feh': (0., 0.),\n",
    "                               'radius': (1., 20.),\n",
    "                               '2MASS/2MASS_error': (0., 1.)},\n",
    "                       inc_phot=True,\n",
    "                       inc_spec=False)"
   ]
  },
  {
   "cell_type": "markdown",
   "metadata": {},
   "source": [
    "We will sample the posterior distribution with the [run_ultranest](https://species.readthedocs.io/en/latest/species.analysis.html#species.analysis.fit_model.FitModel.run_ultranest), which uses the nested sampling implementation of [UltraNest](https://johannesbuchner.github.io/UltraNest/index.html). The samples will be stored in the database by the `tag` name. Let's run the sampler with 500 live points!"
   ]
  },
  {
   "cell_type": "code",
   "execution_count": 10,
   "metadata": {},
   "outputs": [
    {
     "name": "stdout",
     "output_type": "stream",
     "text": [
      "Running nested sampling with UltraNest...\n",
      "Creating directory for new run ultranest/run1\n",
      "[ultranest] Sampling 500 live points from prior ...\n"
     ]
    },
    {
     "name": "stderr",
     "output_type": "stream",
     "text": [
      "/Users/tomasstolker/.pyenv/versions/3.10.0/envs/species3.10/lib/python3.10/site-packages/ultranest/store.py:195: DeprecationWarning: `np.float` is a deprecated alias for the builtin `float`. To silence this warning, use `float` by itself. Doing this will not modify any behavior and is safe. If you specifically wanted the numpy scalar type, use `np.float64` here.\n",
      "Deprecated in NumPy 1.20; for more details and guidance: https://numpy.org/devdocs/release/1.20.0-notes.html#deprecations\n",
      "  'points', dtype=np.float,\n"
     ]
    },
    {
     "name": "stdout",
     "output_type": "stream",
     "text": [
      "[ultranest] Explored until L=8e+01  84.4511..84.4512]*| it/evals=4950/8602 eff=61.0960% N=500 \n",
      "[ultranest] Likelihood function evaluations: 8640\n",
      "[ultranest] Writing samples and results to disk ...\n",
      "[ultranest] Writing samples and results to disk ... done\n",
      "[ultranest]   logZ = 79.12 +- 0.07271\n",
      "[ultranest] Effective samples strategy satisfied (ESS = 3410.6, need >400)\n",
      "[ultranest] Posterior uncertainty strategy is satisfied (KL: 0.45+-0.06 nat, need <0.50 nat)\n",
      "[ultranest] Evidency uncertainty strategy is satisfied (dlogz=0.07, need <0.5)\n",
      "[ultranest]   logZ error budget: single: 0.08 bs:0.07 tail:0.01 total:0.07 required:<0.50\n",
      "[ultranest] done iterating.\n",
      "Log-evidence = 79.13 +/- 0.12\n",
      "Best-fit parameters (mean +/- std):\n",
      "   - radius = 1.25e+01 +/- 1.05e+00\n",
      "   - parallax = 2.12e+01 +/- 2.21e-02\n",
      "   - 2MASS/2MASS_error = 1.74e-01 +/- 1.78e-01\n",
      "Maximum likelihood sample:\n",
      "   - Log-likelihood = 84.48\n",
      "   - radius = 12.69\n",
      "   - parallax = 21.16\n",
      "   - 2MASS/2MASS_error = 0.04\n",
      "Integrated autocorrelation time:\n",
      "   - radius: 1.02\n",
      "   - parallax: 1.01\n",
      "   - 2MASS/2MASS_error: 1.09\n",
      "   - teff: fixed\n",
      "   - logg: fixed\n",
      "   - feh: fixed\n"
     ]
    },
    {
     "name": "stderr",
     "output_type": "stream",
     "text": [
      "/Users/tomasstolker/.pyenv/versions/3.10.0/envs/species3.10/lib/python3.10/site-packages/emcee/autocorr.py:38: RuntimeWarning: invalid value encountered in true_divide\n",
      "  acf /= acf[0]\n"
     ]
    }
   ],
   "source": [
    "fit.run_ultranest(tag='pztel',\n",
    "                  min_num_live_points=500,\n",
    "                  output='ultranest/',\n",
    "                  prior=None)"
   ]
  },
  {
   "cell_type": "markdown",
   "metadata": {},
   "source": [
    "## Plotting the posterior distribution"
   ]
  },
  {
   "cell_type": "markdown",
   "metadata": {},
   "source": [
    "After running the sampler, we can plot the posterior distribution of the 3 free parameters with the [plot_posterior](https://species.readthedocs.io/en/latest/species.plot.html#species.plot.plot_mcmc.plot_posterior) by simply pointing to the database `tag` that was specified with [run_ultranest](https://species.readthedocs.io/en/latest/species.analysis.html#species.analysis.fit_model.FitModel.run_ultranest)."
   ]
  },
  {
   "cell_type": "code",
   "execution_count": 11,
   "metadata": {},
   "outputs": [
    {
     "name": "stdout",
     "output_type": "stream",
     "text": [
      "Median sample:\n",
      "   - radius = 1.26e+01\n",
      "   - parallax = 2.12e+01\n",
      "   - 2MASS/2MASS_error = 1.12e-01\n",
      "   - teff = 5.00e+03\n",
      "   - logg = 4.00e+00\n",
      "   - feh = 0.00e+00\n",
      "Plotting the posterior... [DONE]\n"
     ]
    },
    {
     "data": {
      "image/png": "[encoded data removed]",
      "text/plain": [
       "<Figure size 547.2x547.2 with 9 Axes>"
      ]
     },
     "metadata": {
      "needs_background": "light"
     },
     "output_type": "display_data"
    }
   ],
   "source": [
    "species.plot_posterior(tag='pztel',\n",
    "                       offset=(-0.3, -0.3),\n",
    "                       output=None)"
   ]
  },
  {
   "cell_type": "markdown",
   "metadata": {},
   "source": [
    "## Extracting spectral samples"
   ]
  },
  {
   "cell_type": "markdown",
   "metadata": {},
   "source": [
    "Later on, we will create a plot of the data, best-fit spectrum, and random spectral samples of the posterior distribution. We start by drawing 30 random samples the posterior distribution and calculate spectra at $R = 500$. The [get_mcmc_spectra](https://species.readthedocs.io/en/latest/species.data.html#species.data.database.Database.get_mcmc_spectra) method of [Database](https://species.readthedocs.io/en/latest/species.data.html#species.data.database.Database) returns a list with [ModelBox](https://species.readthedocs.io/en/latest/species.core.html#species.core.box.ModelBox) objects."
   ]
  },
  {
   "cell_type": "code",
   "execution_count": 12,
   "metadata": {},
   "outputs": [
    {
     "name": "stderr",
     "output_type": "stream",
     "text": [
      "Getting MCMC spectra:   0%|                                                    | 0/30 [00:00<?, ?it/s]/Users/tomasstolker/applications/species/species/read/read_model.py:696: UserWarning: The '2MASS/2MASS_error' parameter is not required by 'bt-nextgen' so the parameter will be ignored. The mandatory parameters are ['teff', 'logg', 'feh'].\n",
      "  warnings.warn(\n",
      "Getting MCMC spectra: 100%|██████████████████████████████████████████| 30/30 [00:00<00:00, 166.07it/s]\n"
     ]
    }
   ],
   "source": [
    "samples = database.get_mcmc_spectra(tag='pztel',\n",
    "                                    random=30,\n",
    "                                    wavel_range=(0.5, 10.),\n",
    "                                    spec_res=500.)"
   ]
  },
  {
   "cell_type": "markdown",
   "metadata": {},
   "source": [
    "Let's have a look at the content of the first [ModelBox](https://species.readthedocs.io/en/latest/species.core.html#species.core.box.ModelBox) by using the [open_box](https://species.readthedocs.io/en/latest/species.core.html#species.core.box.Box.open_box) method."
   ]
  },
  {
   "cell_type": "code",
   "execution_count": 13,
   "metadata": {},
   "outputs": [
    {
     "name": "stdout",
     "output_type": "stream",
     "text": [
      "Opening ModelBox...\n",
      "model = bt-nextgen\n",
      "type = None\n",
      "wavelength = [ 0.49989727  0.50002105  0.50014486 ...  9.99710369  9.99957902\n",
      " 10.00205496]\n",
      "flux = [1.30364918e-11 1.28079596e-11 1.25724615e-11 ... 3.41362130e-15\n",
      " 3.41141291e-15 3.40959050e-15]\n",
      "parameters = {'radius': 12.386278602205481, 'parallax': 21.173846354524073, '2MASS/2MASS_error': 0.07396020154975194, 'teff': 5000.0, 'logg': 4.0, 'feh': 0.0, 'luminosity': 0.8723733823445655, 'mass': 591.9095619026984}\n",
      "quantity = flux\n",
      "contribution = None\n",
      "bol_flux = None\n"
     ]
    }
   ],
   "source": [
    "samples[0].open_box()"
   ]
  },
  {
   "cell_type": "markdown",
   "metadata": {},
   "source": [
    "Next, we extract the best-fit parameters from the posterior distribution, for which we adopt the median values. The [get_median_sample](https://species.readthedocs.io/en/latest/species.data.html#species.data.database.Database.get_median_sample) return a dictionary with the parameters, including the ones that were fixed with [FitModel](https://species.readthedocs.io/en/latest/species.analysis.html#species.analysis.fit_model.FitModel)."
   ]
  },
  {
   "cell_type": "code",
   "execution_count": 14,
   "metadata": {},
   "outputs": [
    {
     "name": "stdout",
     "output_type": "stream",
     "text": [
      "{'radius': 12.631819698653016, 'parallax': 21.16173237012034, '2MASS/2MASS_error': 0.11163047820117447, 'teff': 5000.0, 'logg': 4.0, 'feh': 0.0}\n"
     ]
    }
   ],
   "source": [
    "median = database.get_median_sample(tag='pztel')\n",
    "print(median)"
   ]
  },
  {
   "cell_type": "markdown",
   "metadata": {},
   "source": [
    "Next, we interpolate the the BT-NextGen grid at the best-fit parameters. To do so, we first create an instance of [ReadModel](https://species.readthedocs.io/en/latest/species.read.html#species.read.read_model.ReadModel) and then use the [get_model](https://species.readthedocs.io/en/latest/species.read.html#species.read.read_model.ReadModel.get_model) method to interpolate the grid with the median parameters that are provided to `model_par`.  Similar to [get_mcmc_spectra](https://species.readthedocs.io/en/latest/species.data.html#species.data.database.Database.get_mcmc_spectra), we also smooth this spectrum to $R = 500$. The model spectrum is again returned in a [ModelBox](https://species.readthedocs.io/en/latest/species.core.html#species.core.box.ModelBox)."
   ]
  },
  {
   "cell_type": "code",
   "execution_count": 15,
   "metadata": {},
   "outputs": [],
   "source": [
    "read_model = species.ReadModel(model='bt-nextgen', wavel_range=(0.2, 30.))\n",
    "model_box = read_model.get_model(model_param=median, spec_res=500., smooth=True)"
   ]
  },
  {
   "cell_type": "markdown",
   "metadata": {},
   "source": [
    "Each [Box](https://species.readthedocs.io/en/latest/species.core.html#species.core.box.Box) is a Python object so the content is easily accessed as attributes."
   ]
  },
  {
   "cell_type": "code",
   "execution_count": 16,
   "metadata": {},
   "outputs": [
    {
     "name": "stdout",
     "output_type": "stream",
     "text": [
      "{'radius': 12.631819698653016, 'parallax': 21.16173237012034, '2MASS/2MASS_error': 0.11163047820117447, 'teff': 5000.0, 'logg': 4.0, 'feh': 0.0, 'luminosity': 0.9073034319889564, 'mass': 615.6097696356353}\n"
     ]
    }
   ],
   "source": [
    "print(model_box.parameters)"
   ]
  },
  {
   "cell_type": "markdown",
   "metadata": {},
   "source": [
    "## Extracting the object data"
   ]
  },
  {
   "cell_type": "markdown",
   "metadata": {},
   "source": [
    "For the plot, we also require the data of PZ Tel. These can be extracted with the [get_object](https://species.readthedocs.io/en/latest/species.data.html#species.data.database.Database.get_object), which returns the data (e.g. photometry, spectra, and parallax) for a given `object_name`."
   ]
  },
  {
   "cell_type": "code",
   "execution_count": 17,
   "metadata": {},
   "outputs": [
    {
     "name": "stdout",
     "output_type": "stream",
     "text": [
      "Getting object: PZ Tel... [DONE]\n"
     ]
    }
   ],
   "source": [
    "object_box = database.get_object(object_name='PZ Tel')"
   ]
  },
  {
   "cell_type": "markdown",
   "metadata": {},
   "source": [
    "The data are stored in an [ObjectBox](https://species.readthedocs.io/en/latest/species.core.html#species.core.box.ObjectBox). Let's have a look at the content by using [open_box](https://species.readthedocs.io/en/latest/species.core.html#species.core.box.Box.open_box)."
   ]
  },
  {
   "cell_type": "code",
   "execution_count": 18,
   "metadata": {},
   "outputs": [
    {
     "name": "stdout",
     "output_type": "stream",
     "text": [
      "Opening ObjectBox...\n",
      "name = PZ Tel\n",
      "filters = ['2MASS/2MASS.H', '2MASS/2MASS.J', '2MASS/2MASS.Ks']\n",
      "mean_wavel = {'2MASS/2MASS.H': 1.6513664598414621, '2MASS/2MASS.J': 1.24105170694321, '2MASS/2MASS.Ks': 2.1656311232670684}\n",
      "magnitude = {'2MASS/2MASS.H': array([6.486, 0.049]), '2MASS/2MASS.J': array([6.856, 0.021]), '2MASS/2MASS.Ks': array([6.366, 0.024])}\n",
      "flux = {'2MASS/2MASS.H': array([2.97565316e-12, 1.34338807e-13]), '2MASS/2MASS.J': array([5.81192273e-12, 1.12419561e-13]), '2MASS/2MASS.Ks': array([1.25057897e-12, 2.76460704e-14])}\n",
      "spectrum = None\n",
      "parallax = [21.1621  0.0223]\n",
      "distance = None\n"
     ]
    }
   ],
   "source": [
    "object_box.open_box()"
   ]
  },
  {
   "cell_type": "markdown",
   "metadata": {},
   "source": [
    "With [FitModel](https://species.readthedocs.io/en/latest/species.analysis.html#species.analysis.fit_model.FitModel) it is possible to account for systematic errors with the data calibration, for example to scale individual spectra or inflate the uncertainties. Since we inflated the 2MASS uncertainties during the fit, we will use the [update_objectbox](https://species.readthedocs.io/en/latest/species.util.html#species.util.read_util.update_objectbox) function to adjust the photometric precision with the best-fit error inflation as extracted with [get_median_sample](https://species.readthedocs.io/en/latest/species.data.html#species.data.database.Database.get_median_sample)."
   ]
  },
  {
   "cell_type": "code",
   "execution_count": 19,
   "metadata": {},
   "outputs": [
    {
     "name": "stdout",
     "output_type": "stream",
     "text": [
      "Inflating the error of 2MASS/2MASS.H (W m-2 um-1): 3.32e-13... [DONE]\n",
      "Inflating the error of 2MASS/2MASS.J (W m-2 um-1): 6.49e-13... [DONE]\n",
      "Inflating the error of 2MASS/2MASS.Ks (W m-2 um-1): 1.40e-13... [DONE]\n"
     ]
    }
   ],
   "source": [
    "object_box = species.update_objectbox(object_box, median)"
   ]
  },
  {
   "cell_type": "markdown",
   "metadata": {},
   "source": [
    "## Residuals and synthetic photometry"
   ]
  },
  {
   "cell_type": "markdown",
   "metadata": {},
   "source": [
    "Before creating the plot, there are two more boxes that we will create. First, we use the [get_residuals](https://species.readthedocs.io/en/latest/species.util.html#species.util.phot_util.get_residuals) function to calculate the residuals (i.e. data minus model, relative to the data uncertainties), together with the reduced $\\chi^2$. The residuals and mean wavelengths are stored in a [ResidualsBox](https://species.readthedocs.io/en/latest/species.core.html#species.core.box.ResidualsBox) for each of the 2MASS filters."
   ]
  },
  {
   "cell_type": "code",
   "execution_count": 20,
   "metadata": {},
   "outputs": [
    {
     "name": "stdout",
     "output_type": "stream",
     "text": [
      "Calculating synthetic photometry... [DONE]\n",
      "Calculating residuals... [DONE]\n",
      "Residuals (sigma):\n",
      "   - 2MASS/2MASS.H: -0.50\n",
      "   - 2MASS/2MASS.J: 0.59\n",
      "   - 2MASS/2MASS.Ks: -0.07\n",
      "Reduced chi2 = -0.20\n",
      "Number of degrees of freedom = -3\n"
     ]
    }
   ],
   "source": [
    "residuals = species.get_residuals(datatype='model',\n",
    "                                  spectrum='bt-nextgen',\n",
    "                                  parameters=median,\n",
    "                                  objectbox=object_box,\n",
    "                                  inc_phot=True,\n",
    "                                  inc_spec=False)"
   ]
  },
  {
   "cell_type": "code",
   "execution_count": 21,
   "metadata": {},
   "outputs": [
    {
     "name": "stdout",
     "output_type": "stream",
     "text": [
      "Opening ResidualsBox...\n",
      "name = PZ Tel\n",
      "photometry = {'2MASS/2MASS.H': array([ 1.65136646, -0.49580124]), '2MASS/2MASS.J': array([1.24105171, 0.58903562]), '2MASS/2MASS.Ks': array([ 2.16563112, -0.06744554])}\n",
      "spectrum = None\n",
      "chi2_red = -0.19911024464233465\n"
     ]
    }
   ],
   "source": [
    "residuals.open_box()"
   ]
  },
  {
   "cell_type": "markdown",
   "metadata": {},
   "source": [
    "Secondly, we will also use the dictionary with best-fit parameters to calculate synthetic photometry for the three filters that were used in the fit. The [multi_photometry](https://species.readthedocs.io/en/latest/species.util.html#species.util.phot_util.multi_photometry) returns a [SynphotBox](https://species.readthedocs.io/en/latest/species.core.html#species.core.box.SynphotBox), which includes a dictionary with the photometric fluxes."
   ]
  },
  {
   "cell_type": "code",
   "execution_count": 22,
   "metadata": {},
   "outputs": [
    {
     "name": "stdout",
     "output_type": "stream",
     "text": [
      "Calculating synthetic photometry... [DONE]\n"
     ]
    }
   ],
   "source": [
    "syn_phot = species.multi_photometry(datatype='model',\n",
    "                                    spectrum='bt-nextgen',\n",
    "                                    filters=filters,\n",
    "                                    parameters=median)"
   ]
  },
  {
   "cell_type": "code",
   "execution_count": 23,
   "metadata": {},
   "outputs": [
    {
     "name": "stdout",
     "output_type": "stream",
     "text": [
      "Opening SynphotBox...\n",
      "name = synphot\n",
      "flux = {'2MASS/2MASS.J': 5.424068977798242e-12, '2MASS/2MASS.H': 3.153303809019875e-12, '2MASS/2MASS.Ks': 1.2601774001899572e-12}\n"
     ]
    }
   ],
   "source": [
    "syn_phot.open_box()"
   ]
  },
  {
   "cell_type": "markdown",
   "metadata": {},
   "source": [
    "## Plotting the data and model spectra"
   ]
  },
  {
   "cell_type": "markdown",
   "metadata": {},
   "source": [
    "We have now prepared all the boxes with data so we are ready to combine them in a plot of the spectral energy distribution (SED) of PZ Tel! The [plot_spectrum](https://species.readthedocs.io/en/latest/species.plot.html#species.plot.plot_spectrum.plot_spectrum) function requires a list of [Box](https://species.readthedocs.io/en/latest/species.core.html#species.core.box.Box) objects as argument of boxes. For each box we can set the plot style, by providing a list with dictionaries as argument of `plot_kwargs`, in the same order as the list of boxes. Items in the list can be set to `None`, in which case some default values are used. The [ResidualsBox](https://species.readthedocs.io/en/latest/species.core.html#species.core.box.ResidualsBox) is passed as argument of `residuals` and will also plot the filter profiles by providing the list with names as argument to `filters`. Finally, there is a handful of parameters that can be adjusted for the appearance of the plot (see the API documentation of [plot_spectrum](https://species.readthedocs.io/en/latest/species.plot.html#species.plot.plot_spectrum.plot_spectrum) for details). Let's have a look at the plot!"
   ]
  },
  {
   "cell_type": "code",
   "execution_count": 24,
   "metadata": {},
   "outputs": [
    {
     "name": "stdout",
     "output_type": "stream",
     "text": [
      "Plotting spectrum... [DONE]\n"
     ]
    },
    {
     "data": {
      "image/png": "[encoded data removed]",
      "text/plain": [
       "<Figure size 504x216 with 3 Axes>"
      ]
     },
     "metadata": {
      "needs_background": "light"
     },
     "output_type": "display_data"
    }
   ],
   "source": [
    "species.plot_spectrum(boxes=[samples, model_box, object_box, syn_phot],\n",
    "                      filters=filters,\n",
    "                      residuals=residuals,\n",
    "                      plot_kwargs=[{'ls': '-', 'lw': 0.2, 'color': 'gray'},\n",
    "                                   {'ls': '-', 'lw': 1., 'color': 'black'},\n",
    "                                   {'2MASS/2MASS.J': {'marker': 's', 'ms': 5., 'color': 'tab:blue', 'ls': 'none'},\n",
    "                                    '2MASS/2MASS.H': {'marker': 's', 'ms': 5., 'color': 'tab:blue', 'ls': 'none'},\n",
    "                                    '2MASS/2MASS.Ks': {'marker': 's', 'ms': 5., 'color': 'tab:blue', 'ls': 'none'}},\n",
    "                                   None],\n",
    "                      xlim=(1., 2.5),\n",
    "                      ylim=(-2e-12, 1.2e-11),\n",
    "                      ylim_res=(-7., 7.),\n",
    "                      scale=('linear', 'linear'),\n",
    "                      offset=(-0.5, -0.05),\n",
    "                      figsize=(7., 3.),\n",
    "                      output=None)"
   ]
  },
  {
   "cell_type": "markdown",
   "metadata": {},
   "source": [
    "## Photometric calibration"
   ]
  },
  {
   "cell_type": "markdown",
   "metadata": {},
   "source": [
    "Now that we have the posterior samples of the atmospheric parameters, we can calculated synthetic photometry (including uncertainties) for any other filter. As an example, we will calculate the magnitude and flux for the VLT/NACO $M'$ filter. The [plot_mag_posterior](https://species.readthedocs.io/en/latest/species.plot.html#species.plot.plot_mcmc.plot_mag_posterior) function plots the distribution of the magnitudes, by propagating the posterior of the atmospheric parameters, and returns an array with the samples. We simply need to specify the database `tag` and provide the `filter_name` name as listed on the [SVO Filter Profile Service](http://svo2.cab.inta-csic.es/svo/theory/fps/))."
   ]
  },
  {
   "cell_type": "code",
   "execution_count": 25,
   "metadata": {},
   "outputs": [
    {
     "name": "stdout",
     "output_type": "stream",
     "text": [
      "Adding filter: Paranal/NACO.Mp... [DONE]\n"
     ]
    },
    {
     "name": "stderr",
     "output_type": "stream",
     "text": [
      "Getting MCMC photometry:   0%|                                             | 0/5686 [00:00<?, ?it/s]/Users/tomasstolker/applications/species/species/read/read_model.py:693: UserWarning: The '2MASS/2MASS_error' parameter is not required by 'bt-nextgen' so the parameter will be ignored. The mandatory parameters are ['teff', 'logg', 'feh'].\n",
      "  warnings.warn(\n",
      "Getting MCMC photometry: 100%|█████████████████████████████████| 5686/5686 [00:53<00:00, 106.38it/s]"
     ]
    },
    {
     "name": "stdout",
     "output_type": "stream",
     "text": [
      "Plotting photometry samples..."
     ]
    },
    {
     "name": "stderr",
     "output_type": "stream",
     "text": [
      "\n"
     ]
    },
    {
     "name": "stdout",
     "output_type": "stream",
     "text": [
      " [DONE]\n"
     ]
    },
    {
     "data": {
      "image/png": "[encoded data removed]",
      "text/plain": [
       "<Figure size 244.8x244.8 with 1 Axes>"
      ]
     },
     "metadata": {
      "needs_background": "light"
     },
     "output_type": "display_data"
    }
   ],
   "source": [
    "phot_mag = species.plot_mag_posterior(tag='pztel',\n",
    "                                      filter_name='Paranal/NACO.Mp',\n",
    "                                      xlim=(5., 8.),\n",
    "                                      output=None)"
   ]
  },
  {
   "cell_type": "markdown",
   "metadata": {},
   "source": [
    "There is also the [get_mcmc_photometry](https://species.readthedocs.io/en/latest/species.data.html#species.data.database.Database.get_mcmc_photometry) method of [Database](https://species.readthedocs.io/en/latest/species.data.html#species.data.database.Database), which works in a similar way as [plot_mag_posterior](https://species.readthedocs.io/en/latest/species.plot.html#species.plot.plot_mcmc.plot_mag_posterior), but can also return the posterior of the flux density instead of the magnitude."
   ]
  },
  {
   "cell_type": "code",
   "execution_count": 26,
   "metadata": {},
   "outputs": [
    {
     "name": "stderr",
     "output_type": "stream",
     "text": [
      "Getting MCMC photometry:   0%|                                             | 0/5686 [00:00<?, ?it/s]/Users/tomasstolker/applications/species/species/read/read_model.py:693: UserWarning: The '2MASS/2MASS_error' parameter is not required by 'bt-nextgen' so the parameter will be ignored. The mandatory parameters are ['teff', 'logg', 'feh'].\n",
      "  warnings.warn(\n",
      "Getting MCMC photometry: 100%|█████████████████████████████████| 5686/5686 [00:44<00:00, 126.56it/s]\n"
     ]
    }
   ],
   "source": [
    "phot_flux = database.get_mcmc_photometry(tag='pztel',\n",
    "                                         filter_name='Paranal/NACO.Mp',\n",
    "                                         phot_type='flux')"
   ]
  },
  {
   "cell_type": "markdown",
   "metadata": {},
   "source": [
    "To calculate the flux density in the $M'$-band, we simply adopt the mean and the standard deviation of the distribution."
   ]
  },
  {
   "cell_type": "code",
   "execution_count": 27,
   "metadata": {},
   "outputs": [
    {
     "name": "stdout",
     "output_type": "stream",
     "text": [
      "Flux density (W m-2 um-1) = 5.93e-14 +/- 9.02e-15\n"
     ]
    }
   ],
   "source": [
    "print(f'Flux density (W m-2 um-1) = {np.mean(phot_flux):.2e} +/- {np.std(phot_flux):.2e}')"
   ]
  },
  {
   "cell_type": "markdown",
   "metadata": {},
   "source": [
    "## Spectral calibration"
   ]
  },
  {
   "cell_type": "markdown",
   "metadata": {},
   "source": [
    "We can also compute a stellar, synthetic spectrum with uncertainties for a specific instrument. To do so, we use again the [get_mcmc_spectra](https://species.readthedocs.io/en/latest/species.data.html#species.data.database.Database.get_mcmc_spectra) method from earlier, but this time we draw a larger number of spectra. Furthermore, for our hypothetical instrument, we assume a resolving power of $R = 100$ and set the wavelength points (20 linearly-spaced points between 1 and 2.5 $\\mu$m) as argument of `wavel_resample`."
   ]
  },
  {
   "cell_type": "code",
   "execution_count": 28,
   "metadata": {},
   "outputs": [
    {
     "name": "stderr",
     "output_type": "stream",
     "text": [
      "Getting MCMC spectra: 100%|██████████████████████████████████████| 100/100 [00:00<00:00, 120.14it/s]\n"
     ]
    }
   ],
   "source": [
    "samples = database.get_mcmc_spectra(tag='pztel',\n",
    "                                    random=100,\n",
    "                                    wavel_range=(0.5, 10.),\n",
    "                                    spec_res=1900.,\n",
    "                                    wavel_resample=np.linspace(1., 2.5, 20))"
   ]
  },
  {
   "cell_type": "markdown",
   "metadata": {},
   "source": [
    "Next, we calculate the mean and standard deviation of the 100 samples, which we adopt as the synthetic spectrum of PZ Tel."
   ]
  },
  {
   "cell_type": "code",
   "execution_count": 29,
   "metadata": {},
   "outputs": [],
   "source": [
    "spec_flux = np.mean([box.flux for box in samples], axis=0)\n",
    "spec_sigma = np.std([box.flux for box in samples], axis=0)"
   ]
  },
  {
   "cell_type": "markdown",
   "metadata": {},
   "source": [
    "Let's write the synthetic spectrum to a text file. "
   ]
  },
  {
   "cell_type": "code",
   "execution_count": 30,
   "metadata": {},
   "outputs": [],
   "source": [
    "calib_spec = np.column_stack([samples[0].wavelength, spec_flux, spec_sigma])\n",
    "np.savetxt('calib_spec.dat', calib_spec)"
   ]
  },
  {
   "cell_type": "markdown",
   "metadata": {},
   "source": [
    "Now we can use the [add_object](https://species.readthedocs.io/en/latest/species.data.html#species.data.database.Database.add_object) method to append the spectrum to the data of PZ Tel in the database. The parallax and magnitudes were already provided previously so we can set the arguments of `parallax` and `app_mag` to `None`."
   ]
  },
  {
   "cell_type": "code",
   "execution_count": 31,
   "metadata": {},
   "outputs": [
    {
     "name": "stdout",
     "output_type": "stream",
     "text": [
      "Adding object: PZ Tel\n",
      "   - Spectrum:\n",
      "      - Database tag: calibration\n",
      "      - Filename: calib_spec.dat\n",
      "      - Data shape: (20, 3)\n",
      "      - Wavelength range (um): 1.00 - 2.50\n",
      "      - Mean flux (W m-2 um-1): 3.13e-12\n",
      "      - Mean error (W m-2 um-1): 4.38e-13\n",
      "   - Spectral resolution:\n",
      "      - calibration: 100.0\n"
     ]
    }
   ],
   "source": [
    "database.add_object(object_name='PZ Tel',\n",
    "                    parallax=None,\n",
    "                    app_mag=None,\n",
    "                    spectrum={'calibration': ('calib_spec.dat', None, 100.)})"
   ]
  },
  {
   "cell_type": "markdown",
   "metadata": {},
   "source": [
    "Next, we use the [get_object](https://species.readthedocs.io/en/latest/species.data.html#species.data.database.Database.get_object) method for extracting all the data of PZ Tel from the database and storing these in an [ObjectBox](https://species.readthedocs.io/en/latest/species.core.html#species.core.box.ObjectBox). We need to apply again the [update_objectbox](https://species.readthedocs.io/en/latest/species.util.html#species.util.read_util.update_objectbox) function to account for the inflated errors of the 2MASS fluxes."
   ]
  },
  {
   "cell_type": "code",
   "execution_count": 32,
   "metadata": {},
   "outputs": [
    {
     "name": "stdout",
     "output_type": "stream",
     "text": [
      "Getting object: PZ Tel... [DONE]\n",
      "Inflating the error of 2MASS/2MASS.H (W m-2 um-1): 3.33e-13... [DONE]\n",
      "Inflating the error of 2MASS/2MASS.J (W m-2 um-1): 6.51e-13... [DONE]\n",
      "Inflating the error of 2MASS/2MASS.Ks (W m-2 um-1): 1.40e-13... [DONE]\n"
     ]
    }
   ],
   "source": [
    "object_box = database.get_object(object_name='PZ Tel')\n",
    "object_box = species.update_objectbox(object_box, median)"
   ]
  },
  {
   "cell_type": "markdown",
   "metadata": {},
   "source": [
    "If we now open the [ObjectBox](https://species.readthedocs.io/en/latest/species.core.html#species.core.box.ObjectBox) with [open_box](https://species.readthedocs.io/en/latest/species.core.html#species.core.box.Box.open_box) then we see that the synthetic spectrum is indeed included together with the previously added data."
   ]
  },
  {
   "cell_type": "code",
   "execution_count": 33,
   "metadata": {},
   "outputs": [
    {
     "name": "stdout",
     "output_type": "stream",
     "text": [
      "Opening ObjectBox...\n",
      "name = PZ Tel\n",
      "filters = ['2MASS/2MASS.H', '2MASS/2MASS.J', '2MASS/2MASS.Ks']\n",
      "mean_wavel = {'2MASS/2MASS.H': 1.6513664598414621, '2MASS/2MASS.J': 1.24105170694321, '2MASS/2MASS.Ks': 2.1656311232670684}\n",
      "magnitude = {'2MASS/2MASS.H': array([6.486, 0.049]), '2MASS/2MASS.J': array([6.856, 0.021]), '2MASS/2MASS.Ks': array([6.366, 0.024])}\n",
      "flux = {'2MASS/2MASS.H': array([2.97565316e-12, 3.59484956e-13]), '2MASS/2MASS.J': array([5.81192273e-12, 6.60893655e-13]), '2MASS/2MASS.Ks': array([1.25057897e-12, 1.42836143e-13])}\n",
      "distance = [47.25  0.05]\n",
      "spectrum = {'calibration': (array([[1.00000000e+00, 7.84612193e-12, 1.09881865e-12],\n",
      "       [1.07894737e+00, 6.79434999e-12, 9.51522106e-13],\n",
      "       [1.15789474e+00, 5.98788542e-12, 8.38579901e-13],\n",
      "       [1.23684211e+00, 5.35732983e-12, 7.50273061e-13],\n",
      "       [1.31578947e+00, 4.83865919e-12, 6.77635269e-13],\n",
      "       [1.39473684e+00, 4.37476569e-12, 6.12668801e-13],\n",
      "       [1.47368421e+00, 3.88890211e-12, 5.44625509e-13],\n",
      "       [1.55263158e+00, 3.59088209e-12, 5.02888973e-13],\n",
      "       [1.63157895e+00, 3.25137357e-12, 4.55342134e-13],\n",
      "       [1.71052632e+00, 2.81057563e-12, 3.93610109e-13],\n",
      "       [1.78947368e+00, 2.42429135e-12, 3.39512509e-13],\n",
      "       [1.86842105e+00, 2.06458574e-12, 2.89137147e-13],\n",
      "       [1.94736842e+00, 1.78222925e-12, 2.49594226e-13],\n",
      "       [2.02631579e+00, 1.56176562e-12, 2.18719159e-13],\n",
      "       [2.10526316e+00, 1.36272970e-12, 1.90844957e-13],\n",
      "       [2.18421053e+00, 1.19322060e-12, 1.67105871e-13],\n",
      "       [2.26315789e+00, 1.04687396e-12, 1.46610598e-13],\n",
      "       [2.34210526e+00, 9.03655903e-13, 1.26553470e-13],\n",
      "       [2.42105263e+00, 7.86620553e-13, 1.10163128e-13],\n",
      "       [2.50000000e+00, 7.00955289e-13, 9.81660428e-14]]), None, None, 100.0)}\n"
     ]
    }
   ],
   "source": [
    "object_box.open_box()"
   ]
  },
  {
   "cell_type": "markdown",
   "metadata": {},
   "source": [
    "Let's have a look at the content of the returned [ObjectBox](https://species.readthedocs.io/en/latest/species.core.html#species.core.box.ObjectBox) by simply passing it to the [plot_spectrum](https://species.readthedocs.io/en/latest/species.plot.html#species.plot.plot_spectrum.plot_spectrum) function!"
   ]
  },
  {
   "cell_type": "code",
   "execution_count": 34,
   "metadata": {},
   "outputs": [
    {
     "name": "stdout",
     "output_type": "stream",
     "text": [
      "Plotting spectrum... [DONE]\n"
     ]
    },
    {
     "data": {
      "image/png": "[encoded data removed]",
      "text/plain": [
       "<Figure size 504x216 with 1 Axes>"
      ]
     },
     "metadata": {
      "needs_background": "light"
     },
     "output_type": "display_data"
    }
   ],
   "source": [
    "species.plot_spectrum(boxes=[object_box],\n",
    "                      plot_kwargs=[{'calibration': {'marker': 'o', 'ms': 5., 'color': 'black', 'ls': 'none', 'label': 'Synthetic spectrum'},\n",
    "                                    '2MASS/2MASS.J': {'marker': 'o', 'ms': 5., 'color': 'tab:blue', 'ls': 'none', 'label': '2MASS'},\n",
    "                                    '2MASS/2MASS.H': {'marker': 'o', 'ms': 5., 'color': 'tab:blue', 'ls': 'none'},\n",
    "                                    '2MASS/2MASS.Ks': {'marker': 'o', 'ms': 5., 'color': 'tab:blue', 'ls': 'none'}}],\n",
    "                      xlim=(0.9, 2.5),\n",
    "                      ylim=(0., 1e-11),\n",
    "                      scale=('linear', 'linear'),\n",
    "                      offset=(-0.1, -0.05),\n",
    "                      figsize=(7., 3.),\n",
    "                      legend={'loc': 'upper right', 'fontsize': 12.},\n",
    "                      output=None)"
   ]
  }
 ],
 "metadata": {
  "kernelspec": {
   "display_name": "Python 3 (ipykernel)",
   "language": "python",
   "name": "python3"
  },
  "language_info": {
   "codemirror_mode": {
    "name": "ipython",
    "version": 3
   },
   "file_extension": ".py",
   "mimetype": "text/x-python",
   "name": "python",
   "nbconvert_exporter": "python",
   "pygments_lexer": "ipython3",
   "version": "3.10.0"
  }
 },
 "nbformat": 4,
 "nbformat_minor": 2
}
