{
 "cells": [
  {
   "cell_type": "markdown",
   "id": "786a15a7",
   "metadata": {},
   "source": [
    "# Working with evolutionary models"
   ]
  },
  {
   "cell_type": "markdown",
   "id": "7f6f8c20",
   "metadata": {},
   "source": [
    "In this tutorial, we will work with data from an evolutionary model. We will extract an isochrone and cooling curve by interpolating the data at a fixed age and mass, respectively. We will also compute synthetic photometry for a given  age and mass by using the associated grid with model spectra."
   ]
  },
  {
   "cell_type": "markdown",
   "id": "7c39c859",
   "metadata": {},
   "source": [
    "## Getting started"
   ]
  },
  {
   "cell_type": "markdown",
   "id": "07cb85e8",
   "metadata": {},
   "source": [
    "We start by importing `matplotlib`, `numpy`, and `species`."
   ]
  },
  {
   "cell_type": "code",
   "execution_count": 1,
   "id": "43b25e77",
   "metadata": {},
   "outputs": [],
   "source": [
    "import matplotlib.pyplot as plt\n",
    "import numpy as np\n",
    "import species"
   ]
  },
  {
   "cell_type": "markdown",
   "id": "5399ca03",
   "metadata": {},
   "source": [
    "Next, we initiate the workflow by calling the [SpeciesInit](https://species.readthedocs.io/en/latest/species.core.html#species.core.init.SpeciesInit) class. This will create both the [HDF5 database](https://species.readthedocs.io/en/latest/database.html) and the [configuration file](https://species.readthedocs.io/en/latest/configuration.html) in the working folder."
   ]
  },
  {
   "cell_type": "code",
   "execution_count": 2,
   "id": "2ca7f0dc",
   "metadata": {},
   "outputs": [
    {
     "name": "stdout",
     "output_type": "stream",
     "text": [
      "Initiating species v0.5.5... [DONE]\n",
      "Creating species_config.ini... [DONE]\n",
      "Database: /Users/tomasstolker/applications/species/docs/tutorials/species_database.hdf5\n",
      "Data folder: /Users/tomasstolker/applications/species/docs/tutorials/data\n",
      "Working folder: /Users/tomasstolker/applications/species/docs/tutorials\n",
      "Grid interpolation method: linear\n",
      "Creating species_database.hdf5... [DONE]\n",
      "Creating data folder... [DONE]\n"
     ]
    },
    {
     "data": {
      "text/plain": [
       "<species.core.init.SpeciesInit at 0x15274cf70>"
      ]
     },
     "execution_count": 2,
     "metadata": {},
     "output_type": "execute_result"
    }
   ],
   "source": [
    "species.SpeciesInit()"
   ]
  },
  {
   "cell_type": "markdown",
   "id": "27baf0a5",
   "metadata": {},
   "source": [
    "Now we will create and instance of [Database](https://species.readthedocs.io/en/latest/species.data.html#species.data.database.Database) that will provide read and write access to the [HDF5 database](https://species.readthedocs.io/en/latest/database.html) where all the data will be stored."
   ]
  },
  {
   "cell_type": "code",
   "execution_count": 3,
   "id": "55f1dde9",
   "metadata": {},
   "outputs": [],
   "source": [
    "database = species.Database()"
   ]
  },
  {
   "cell_type": "markdown",
   "id": "372ce40d",
   "metadata": {},
   "source": [
    "There are several evolutionary models supported by `species`. In this example, we will use the *ATMO* models that can be added with the [add_isochrones](https://species.readthedocs.io/en/latest/species.data.html#species.data.database.Database.add_isochrones) method of [Database](https://species.readthedocs.io/en/latest/species.data.html#species.data.database.Database). See the documentation of this method for a description of all the parameters and a list of other evolutionary models that are supported.\n",
    "\n",
    "With `model='atmo'`, it will download and add both the chemical equilibrium and weak/strong non-equilibrium models of *ATMO*, including the magnitudes for MKO, WISE, and Spitzer filters."
   ]
  },
  {
   "cell_type": "code",
   "execution_count": 4,
   "id": "f075e9fa",
   "metadata": {},
   "outputs": [
    {
     "name": "stdout",
     "output_type": "stream",
     "text": [
      "Downloading ATMO isochrones (9.6 MB)... [DONE]\n",
      "Unpacking ATMO isochrones (9.6 MB) [DONE]\n",
      "Adding isochrones: ATMO equilibrium chemistry... [DONE]\n",
      "Database tag: atmo-ceq\n",
      "Adding isochrones: ATMO non-equilibrium chemistry (weak)... [DONE]\n",
      "Database tag: atmo-neq-weak\n",
      "Adding isochrones: ATMO non-equilibrium chemistry (strong)... [DONE]\n",
      "Database tag: atmo-neq-strong\n"
     ]
    }
   ],
   "source": [
    "database.add_isochrones(model='atmo')"
   ]
  },
  {
   "cell_type": "markdown",
   "id": "48276d5b",
   "metadata": {},
   "source": [
    "## Extracting an isochrone"
   ]
  },
  {
   "cell_type": "markdown",
   "id": "b7022cbb",
   "metadata": {},
   "source": [
    "We can now read the evolutionary data from the database by creating an instance of [ReadIsochrone](https://species.readthedocs.io/en/latest/species.read.html#species.read.read_isochrone.ReadIsochrone) and providing the `tag` by which the data was stored in the database with [add_isochrones](https://species.readthedocs.io/en/latest/species.data.html#species.data.database.Database.add_isochrones). We will use the *ATMO CEQ* isochrones which were calculated with a cloudless, chemical-equilibrium atmosphere as boundary condition of the interior structure."
   ]
  },
  {
   "cell_type": "code",
   "execution_count": 5,
   "id": "43d15882",
   "metadata": {},
   "outputs": [],
   "source": [
    "read_iso = species.ReadIsochrone(tag='atmo-ceq')"
   ]
  },
  {
   "cell_type": "markdown",
   "id": "36919ae2",
   "metadata": {},
   "source": [
    "The [get_filters](https://species.readthedocs.io/en/latest/species.read.html#species.read.read_isochrone.ReadIsochrone.get_filters) method can be used to check for which filters there are magnitudes included with the isochrone grid."
   ]
  },
  {
   "cell_type": "code",
   "execution_count": 6,
   "id": "afa7a2c5",
   "metadata": {},
   "outputs": [
    {
     "name": "stdout",
     "output_type": "stream",
     "text": [
      "['MKO_Y', 'MKO_J', 'MKO_H', 'MKO_K', 'MKO_Lp', 'MKO_Mp', 'W1', 'W2', 'W3', 'W4', 'IRAC_CH1', 'IRAC_CH2']\n"
     ]
    }
   ],
   "source": [
    "print(read_iso.get_filters())"
   ]
  },
  {
   "cell_type": "markdown",
   "id": "8dbf415f",
   "metadata": {},
   "source": [
    "The [ReadIsochrone](https://species.readthedocs.io/en/latest/species.read.html#species.read.read_isochrone.ReadIsochrone) has several functionalities (see link for a complete list of methods and parameters). For example, [get_isochrone](https://species.readthedocs.io/en/latest/species.read.html#species.read.read_isochrone.ReadIsochrone.get_isochrone) can be used to interpolate the evolutionary data at a fixed age and a range of masses. We can also optionally interpolate the magnitudes for any of the filters that are included with the grid. For this, we need to use one of the filter names from [get_filters](https://species.readthedocs.io/en/latest/species.read.html#species.read.read_isochrone.ReadIsochrone.get_filters) as arguments for `filter_mag` and/or `filters_color`. Setting `masses=None` would select the masses at the nearest age point in the grid, but here we interpolate to a specified array of masses between 5 and 30 $M_\\mathrm{J}$."
   ]
  },
  {
   "cell_type": "code",
   "execution_count": 7,
   "id": "84e751fc",
   "metadata": {},
   "outputs": [],
   "source": [
    "iso_box = read_iso.get_isochrone(age=50.,\n",
    "                                 masses=np.linspace(5., 30., 50),\n",
    "                                 filter_mag='MKO_H',\n",
    "                                 filters_color=('MKO_K', 'MKO_Mp'))"
   ]
  },
  {
   "cell_type": "markdown",
   "id": "9d002d27",
   "metadata": {},
   "source": [
    "The isochrone that is returned by [get_isochrone](https://species.readthedocs.io/en/latest/species.read.html#species.read.read_isochrone.ReadIsochrone.get_isochrone) is stored in an [IsochroneBox](https://species.readthedocs.io/en/latest/species.core.html#species.core.box.IsochroneBox). We can use the [open_box](https://species.readthedocs.io/en/latest/species.core.html#species.core.box.Box.open_box) method on any [Box](https://species.readthedocs.io/en/latest/species.core.html#species.core.box.Box) object to have a look at the content. Let's have a look!"
   ]
  },
  {
   "cell_type": "code",
   "execution_count": 8,
   "id": "965d539e",
   "metadata": {},
   "outputs": [
    {
     "name": "stdout",
     "output_type": "stream",
     "text": [
      "Opening IsochroneBox...\n",
      "model = atmo-ceq\n",
      "age = 50.0\n",
      "mass = [ 5.          5.51020408  6.02040816  6.53061224  7.04081633  7.55102041\n",
      "  8.06122449  8.57142857  9.08163265  9.59183673 10.10204082 10.6122449\n",
      " 11.12244898 11.63265306 12.14285714 12.65306122 13.16326531 13.67346939\n",
      " 14.18367347 14.69387755 15.20408163 15.71428571 16.2244898  16.73469388\n",
      " 17.24489796 17.75510204 18.26530612 18.7755102  19.28571429 19.79591837\n",
      " 20.30612245 20.81632653 21.32653061 21.83673469 22.34693878 22.85714286\n",
      " 23.36734694 23.87755102 24.3877551  24.89795918 25.40816327 25.91836735\n",
      " 26.42857143 26.93877551 27.44897959 27.95918367 28.46938776 28.97959184\n",
      " 29.48979592 30.        ]\n",
      "teff = [ 721.86883896  764.57027946  804.235953    842.95432034  882.84151727\n",
      "  921.7255665   958.55047785  994.73704115 1029.92588519 1066.99372349\n",
      " 1104.46575691 1147.2540087  1198.23153406 1260.43331553 1363.11420439\n",
      " 1472.83230803 1617.92858023 1763.93196411 1840.36990913 1889.334219\n",
      " 1879.85432636 1834.99389221 1799.22369916 1769.50810461 1771.96572698\n",
      " 1767.71477687 1774.93430313 1792.06504358 1814.68701857 1830.88202579\n",
      " 1850.39163135 1870.48328275 1896.0853675  1918.71211965 1937.26191204\n",
      " 1955.27393389 1973.98793885 1995.42568929 2015.88862059 2037.21016126\n",
      " 2058.71022849 2078.54206978 2097.49090064 2116.67105469 2135.85182965\n",
      " 2154.85651519 2173.89884328 2192.42995021 2211.48579453 2229.89759467]\n",
      "log_lum = [-5.41371778 -5.31622851 -5.22771143 -5.14314577 -5.06258161 -4.98782222\n",
      " -4.91947591 -4.85530551 -4.79456264 -4.73313277 -4.67197436 -4.60578492\n",
      " -4.52740371 -4.42996884 -4.27515212 -4.12024269 -3.92740233 -3.73153498\n",
      " -3.63811978 -3.58214078 -3.60397197 -3.6720226  -3.72794449 -3.77438153\n",
      " -3.7782386  -3.79191823 -3.78975917 -3.77483467 -3.75349256 -3.73945896\n",
      " -3.72102002 -3.70259369 -3.67796286 -3.65487565 -3.63656702 -3.61986933\n",
      " -3.6026895  -3.58242073 -3.56318422 -3.54312243 -3.52269394 -3.50399963\n",
      " -3.48640064 -3.46835371 -3.45026616 -3.4324044  -3.4144475  -3.397081\n",
      " -3.37910409 -3.36175976]\n",
      "logg = [3.91450488 3.95625516 3.99460994 4.03047857 4.06321037 4.09392835\n",
      " 4.12230184 4.14923347 4.17417153 4.19781574 4.21940347 4.23900611\n",
      " 4.25455465 4.26684386 4.26610532 4.26287235 4.24276705 4.2239382\n",
      " 4.21773947 4.22510968 4.25271621 4.29185849 4.32860484 4.3585908\n",
      " 4.377861   4.40044976 4.41720225 4.43172326 4.44439031 4.45713044\n",
      " 4.46838284 4.47939863 4.48795647 4.49615631 4.50508925 4.51419893\n",
      " 4.52252945 4.53067783 4.53831503 4.54569425 4.55283193 4.55949444\n",
      " 4.56568849 4.57174407 4.57757878 4.58303581 4.58838503 4.59336647\n",
      " 4.59841535 4.6030679 ]\n",
      "radius = [1.22634636 1.22753979 1.22783819 1.22760209 1.22742734 1.22746408\n",
      " 1.22728442 1.22738062 1.22734885 1.22795198 1.22893748 1.23197324\n",
      " 1.23857249 1.24930117 1.27711442 1.30939272 1.36770505 1.42330475\n",
      " 1.46037357 1.4738039  1.45165728 1.4121864  1.37408114 1.34906096\n",
      " 1.33947336 1.32404358 1.3168508  1.31323989 1.31157834 1.30957262\n",
      " 1.30913789 1.30887974 1.31183537 1.3150066  1.31657009 1.31768751\n",
      " 1.31961664 1.3215143  1.32388112 1.32635083 1.32884112 1.33186175\n",
      " 1.33547219 1.33893247 1.34253476 1.34646931 1.35038226 1.35464331\n",
      " 1.35853004 1.36281436]\n",
      "filter_mag = MKO_H\n",
      "magnitude = [16.53152285 16.21318631 15.92709625 15.65304799 15.39587278 15.15200791\n",
      " 14.9257196  14.70811628 14.50139514 14.28994701 14.07618634 13.83052896\n",
      " 13.54281582 13.1886765  12.65017532 12.16664833 11.69178323 11.18775452\n",
      " 10.98072619 10.85586905 10.9031873  11.05273741 11.174994   11.2801804\n",
      " 11.2876645  11.31689938 11.31120507 11.27512916 11.22644295 11.19475175\n",
      " 11.15319863 11.11254588 11.05900513 11.00734693 10.96638537 10.92958662\n",
      " 10.89205995 10.84807543 10.80647236 10.76305344 10.71870971 10.67814553\n",
      " 10.64008523 10.60101497 10.56196262 10.52361399 10.48517582 10.44803012\n",
      " 10.40934427 10.37200454]\n",
      "filters_color = ('MKO_K', 'MKO_Mp')\n",
      "color = [4.03652244 3.81032657 3.60928213 3.41503467 3.24028587 3.07837767\n",
      " 2.93500231 2.81166962 2.69398154 2.5747352  2.45359211 2.3127239\n",
      " 2.14360233 1.93106435 1.55966966 1.18264806 0.81071129 0.4043814\n",
      " 0.34746514 0.28562866 0.29104786 0.35211882 0.37301101 0.4383164\n",
      " 0.43684004 0.4416469  0.43514616 0.4023702  0.36486153 0.34715346\n",
      " 0.32187728 0.30385083 0.29072711 0.26761759 0.24869116 0.24050399\n",
      " 0.23753804 0.22481371 0.21582924 0.20687851 0.19841845 0.19626681\n",
      " 0.19899088 0.19880644 0.19832734 0.19943471 0.19930032 0.20309515\n",
      " 0.20482051 0.20962997]\n"
     ]
    }
   ],
   "source": [
    "iso_box.open_box()"
   ]
  },
  {
   "cell_type": "markdown",
   "id": "3385b981",
   "metadata": {},
   "source": [
    "The attributes from a [Box](https://species.readthedocs.io/en/latest/species.core.html#species.core.box.Box) can be simply extracted as usual for a Python object. For example, to extract the age at which the isochrone was interpolated:"
   ]
  },
  {
   "cell_type": "code",
   "execution_count": 9,
   "id": "d20dd88a",
   "metadata": {},
   "outputs": [
    {
     "name": "stdout",
     "output_type": "stream",
     "text": [
      "50.0\n"
     ]
    }
   ],
   "source": [
    "print(iso_box.age)"
   ]
  },
  {
   "cell_type": "markdown",
   "id": "35783684",
   "metadata": {},
   "source": [
    "Let's create a plot of the bolometric luminosity as function of mass."
   ]
  },
  {
   "cell_type": "code",
   "execution_count": 10,
   "id": "97c132b8",
   "metadata": {},
   "outputs": [
    {
     "data": {
      "image/png": "[encoded data removed]",
      "text/plain": [
       "<Figure size 432x288 with 1 Axes>"
      ]
     },
     "metadata": {
      "needs_background": "light"
     },
     "output_type": "display_data"
    }
   ],
   "source": [
    "plt.plot(iso_box.mass, iso_box.log_lum, label=f'Age = {iso_box.age} Myr')\n",
    "plt.xlabel(r'Mass ($M_\\mathrm{J}$)', fontsize=14)\n",
    "plt.ylabel(r'$\\log(L/L_\\odot)$', fontsize=14)\n",
    "plt.legend(fontsize=14)\n",
    "plt.show()"
   ]
  },
  {
   "cell_type": "markdown",
   "id": "649d72b9",
   "metadata": {},
   "source": [
    "We can also plot the radius as function of mass."
   ]
  },
  {
   "cell_type": "code",
   "execution_count": 11,
   "id": "fe3cb9a9",
   "metadata": {},
   "outputs": [
    {
     "data": {
      "image/png": "[encoded data removed]",
      "text/plain": [
       "<Figure size 432x288 with 1 Axes>"
      ]
     },
     "metadata": {
      "needs_background": "light"
     },
     "output_type": "display_data"
    }
   ],
   "source": [
    "plt.plot(iso_box.mass, iso_box.radius, label=f'Age = {iso_box.age} Myr')\n",
    "plt.xlabel(r'Mass ($M_\\mathrm{J}$)', fontsize=14)\n",
    "plt.ylabel(r'Radius ($R_\\mathrm{J}$)', fontsize=14)\n",
    "plt.legend(fontsize=14)\n",
    "plt.show()"
   ]
  },
  {
   "cell_type": "markdown",
   "id": "4cd3c440",
   "metadata": {},
   "source": [
    "And finally let's plot the absolute (i.e. at 10 pc) MKO $H$-band magnitude that we had selected."
   ]
  },
  {
   "cell_type": "code",
   "execution_count": 12,
   "id": "ccbda8bf",
   "metadata": {},
   "outputs": [
    {
     "data": {
      "image/png": "[encoded data removed]",
      "text/plain": [
       "<Figure size 432x288 with 1 Axes>"
      ]
     },
     "metadata": {
      "needs_background": "light"
     },
     "output_type": "display_data"
    }
   ],
   "source": [
    "plt.plot(iso_box.mass, iso_box.magnitude, label=f'Age = {iso_box.age} Myr')\n",
    "plt.xlabel(r'Mass ($M_\\mathrm{J}$)', fontsize=14)\n",
    "plt.ylabel(iso_box.filter_mag, fontsize=14)\n",
    "plt.gca().invert_yaxis()\n",
    "plt.legend(fontsize=14)\n",
    "plt.show()"
   ]
  },
  {
   "cell_type": "markdown",
   "id": "65c4ab2e",
   "metadata": {},
   "source": [
    "## Extracting a cooling curve"
   ]
  },
  {
   "cell_type": "markdown",
   "id": "7c6d9faa",
   "metadata": {},
   "source": [
    "Similarly to extracting an isochrone, we can extract a cooling curve with the [get_cooling_curve](https://species.readthedocs.io/en/latest/species.read.html#species.read.read_isochrone.ReadIsochrone.get_cooling_curve) method, which will interpolate the evolutionary data at a fixed mass and a range of ages. Instead of providing an `numpy` array with ages, we can also set the argument of `ages` to `None`. In that case it use the ages that are available in the original data."
   ]
  },
  {
   "cell_type": "code",
   "execution_count": 13,
   "id": "2e93e5de",
   "metadata": {},
   "outputs": [],
   "source": [
    "cooling_box = read_iso.get_cooling_curve(mass=10.,\n",
    "                                         ages=None,\n",
    "                                         filters_color=None,\n",
    "                                         filter_mag=None)"
   ]
  },
  {
   "cell_type": "markdown",
   "id": "a08d4f32",
   "metadata": {},
   "source": [
    "The cooling curve that is returned by [get_cooling_curve](https://species.readthedocs.io/en/latest/species.read.html#species.read.read_isochrone.ReadIsochrone.get_cooling_curve) is stored in an [CoolingBox](https://species.readthedocs.io/en/latest/species.core.html#species.core.box.CoolingBox). Let's have a look at the content by again using the [open_box](https://species.readthedocs.io/en/latest/species.core.html#species.core.box.Box.open_box) method."
   ]
  },
  {
   "cell_type": "code",
   "execution_count": 14,
   "id": "606c4fde",
   "metadata": {},
   "outputs": [
    {
     "name": "stdout",
     "output_type": "stream",
     "text": [
      "Opening CoolingBox...\n",
      "model = atmo-ceq\n",
      "mass = 10.0\n",
      "age = [1.00000000e+00 1.26638017e+00 1.60371874e+00 2.03091762e+00\n",
      " 2.57191381e+00 3.25702066e+00 4.12462638e+00 5.22334507e+00\n",
      " 6.61474064e+00 8.37677640e+00 1.06081836e+01 1.34339933e+01\n",
      " 1.70125428e+01 2.15443469e+01 2.72833338e+01 3.45510729e+01\n",
      " 4.37547938e+01 5.54102033e+01 7.01703829e+01 8.88623816e+01\n",
      " 1.12533558e+02 1.42510267e+02 1.80472177e+02 2.28546386e+02\n",
      " 2.89426612e+02 3.66524124e+02 4.64158883e+02 5.87801607e+02\n",
      " 7.44380301e+02 9.42668455e+02 1.19377664e+03 1.51177507e+03\n",
      " 1.91448198e+03 2.42446202e+03 3.07029063e+03 3.88815518e+03\n",
      " 4.92388263e+03 6.23550734e+03 7.89652287e+03 1.00000000e+04]\n",
      "teff = [2309.92136414 2271.31843036 2227.60151094 2175.22268751 2113.25214823\n",
      " 2045.29126453 1973.17836919 1895.94171811 1811.46845225 1723.32054156\n",
      " 1634.65913374 1551.31030152 1459.23911948 1366.5750378  1287.77172299\n",
      " 1211.22247039 1136.43302722 1064.724456    998.14220538  934.54155053\n",
      "  870.8850384   807.72649858  749.53849188  697.6452082   651.37431096\n",
      "  607.49484068  565.24890764  528.5033357   496.78042792  465.15856661\n",
      "  435.45984711  408.48777861  384.35501994  362.15257628  343.71280978\n",
      "  329.16168267  313.23919179  297.47716449  282.65774635  266.98078617]\n",
      "log_lum = [-2.7647569  -2.85209906 -2.94259586 -3.03868041 -3.14100542 -3.24690055\n",
      " -3.35554457 -3.4680984  -3.58740346 -3.71078282 -3.83587559 -3.95736211\n",
      " -4.09218657 -4.23069065 -4.35652886 -4.48381341 -4.61367678 -4.74439666\n",
      " -4.87263193 -5.00190875 -5.13836696 -5.28140619 -5.42227616 -5.55683473\n",
      " -5.68536544 -5.81526128 -5.94846254 -6.07250345 -6.18738091 -6.30858479\n",
      " -6.42957971 -6.5469225  -6.65859787 -6.76796922 -6.86418136 -6.9454616\n",
      " -7.03789868 -7.13374161 -7.22885778 -7.33443872]\n",
      "logg = [3.5898014  3.64784439 3.70452924 3.75916928 3.8112298  3.86034055\n",
      " 3.90650505 3.94965859 3.98966366 4.02627813 4.0596115  4.09026099\n",
      " 4.11813707 4.14311462 4.16568022 4.18643917 4.20549936 4.22302154\n",
      " 4.23909491 4.25393916 4.26759116 4.27990516 4.29098952 4.30107731\n",
      " 4.31037243 4.31906749 4.32716038 4.33472509 4.3419371  4.34881221\n",
      " 4.35535939 4.36162777 4.36767451 4.37358752 4.37945448 4.38548586\n",
      " 4.39168685 4.39792049 4.40419566 4.41048637]\n",
      "radius = [2.52447902 2.36127149 2.21205989 2.07714109 1.95624733 1.84866899\n",
      " 1.7529447  1.66795061 1.59284657 1.52707369 1.46956656 1.41860597\n",
      " 1.37378998 1.33484008 1.30060555 1.26988667 1.2423234  1.2175119\n",
      " 1.19518832 1.17493574 1.15661369 1.14033321 1.12587433 1.11287493\n",
      " 1.10103001 1.09006398 1.07995542 1.07059103 1.06173891 1.05336863\n",
      " 1.04545879 1.03794145 1.03074083 1.02374783 1.01685565 1.00981842\n",
      " 1.00263439 0.99546417 0.98829787 0.98116589]\n",
      "filter_mag = None\n",
      "magnitude = None\n",
      "filters_color = None\n",
      "color = None\n"
     ]
    }
   ],
   "source": [
    "cooling_box.open_box()"
   ]
  },
  {
   "cell_type": "markdown",
   "id": "c034784f",
   "metadata": {},
   "source": [
    "We can create a plot of the bolometric luminosity as function of time by selecting the respective attributes in the [Box](https://species.readthedocs.io/en/latest/species.core.html#species.core.box.Box) object."
   ]
  },
  {
   "cell_type": "code",
   "execution_count": 15,
   "id": "2b12d931",
   "metadata": {},
   "outputs": [
    {
     "data": {
      "image/png": "[encoded data removed]",
      "text/plain": [
       "<Figure size 432x288 with 1 Axes>"
      ]
     },
     "metadata": {
      "needs_background": "light"
     },
     "output_type": "display_data"
    }
   ],
   "source": [
    "plt.plot(cooling_box.age, cooling_box.log_lum, label=f'Mass = {cooling_box.mass}'+r' $M_\\mathrm{J}$')\n",
    "plt.xlabel(r'Time (Myr)', fontsize=14)\n",
    "plt.ylabel(r'$\\log(L/L_\\odot)$', fontsize=14)\n",
    "plt.legend(fontsize=14)\n",
    "plt.show()"
   ]
  },
  {
   "cell_type": "markdown",
   "id": "4d58e362",
   "metadata": {},
   "source": [
    "## Synthetic photometry from model spectra"
   ]
  },
  {
   "cell_type": "markdown",
   "id": "41814484",
   "metadata": {},
   "source": [
    "As we saw earlier, magnitudes are available with some evolutionary models for some filters. If we want to calculate synthetic photometry for any arbitrary filter from the [SVO Filter Profile Service](http://svo2.cab.inta-csic.es/svo/theory/fps/), we can use the [get_photometry](https://species.readthedocs.io/en/latest/species.read.html#species.read.read_isochrone.ReadIsochrone.get_photometry) method from [ReadIsochrone](https://species.readthedocs.io/en/latest/species.read.html#species.read.read_isochrone.ReadIsochrone). We simply need to provide the age, mass, distance, and name of the filter. For this example, we use the [JWST/NIRCAM F360M filter](http://svo2.cab.inta-csic.es/svo/theory/fps/index.php?id=JWST/NIRCam.F360M&&mode=browse&gname=JWST&gname2=NIRCam#filter).\n",
    "\n",
    "The method selects automatically the atmospheric model that is associated with the evolutionary model (the argument of `atmospheric_model` is by default set to `None`) and downloads the data if not present in the [data_folder](https://species.readthedocs.io/en/latest/configuration.html). It then interpolates the grid of spectra at the bulk and atmospheric parameters for the requested age and mass, and uses the filter profile for the computation of the synthetic photometry."
   ]
  },
  {
   "cell_type": "code",
   "execution_count": 16,
   "id": "c944ed49",
   "metadata": {},
   "outputs": [
    {
     "name": "stdout",
     "output_type": "stream",
     "text": [
      "Adding filter: JWST/NIRCam.F360M... [DONE]\n",
      "Downloading ATMO CEQ model spectra (455 MB)..."
     ]
    },
    {
     "name": "stderr",
     "output_type": "stream",
     "text": [
      "/Users/tomasstolker/applications/species/species/read/read_model.py:144: UserWarning: The 'atmo-ceq' model spectra are not present in the database. Will try to add the model grid. If this does not work (e.g. currently without an internet connection) then please use the 'add_model' method of 'Database' to add the grid of spectra yourself.\n",
      "  warnings.warn(\n"
     ]
    },
    {
     "name": "stdout",
     "output_type": "stream",
     "text": [
      " [DONE]\n",
      "Unpacking ATMO CEQ model spectra (455 MB)... [DONE]\n",
      "Please cite Phillips et al. (2020) when using ATMO CEQ in a publication\n",
      "Reference URL: https://ui.adsabs.harvard.edu/abs/2020A%26A...637A..38P/abstract\n",
      "Wavelength range (um) = 0.2 - 6000\n",
      "Spectral resolution = 10000\n",
      "Teff range (K) = 200 - 3000\n",
      "Adding ATMO CEQ model spectra... [DONE]                              \n",
      "Grid points stored in the database:\n",
      "   - Teff = [ 200.  250.  300.  350.  400.  450.  500.  550.  600.  700.  800.  900.\n",
      " 1000. 1100. 1200. 1300. 1400. 1500. 1600. 1700. 1800. 1900. 2000. 2100.\n",
      " 2200. 2300. 2400. 2500. 2600. 2700. 2800. 2900. 3000.]\n",
      "   - log(g) = [2.5 3.  3.5 4.  4.5 5.  5.5]\n",
      "Number of grid points per parameter:\n",
      "   - teff: 33\n",
      "   - logg: 7\n",
      "Fix missing grid points with a linear interpolation:\n",
      "Number of stored grid points: 231\n",
      "Number of interpolated grid points: 0\n",
      "Number of missing grid points: 0\n",
      "Downloading Vega spectrum (270 kB)... [DONE]\n",
      "Adding Vega spectrum... [DONE]\n"
     ]
    }
   ],
   "source": [
    "phot_box = read_iso.get_photometry(age=100., mass=20., distance=20., filter_name='JWST/NIRCam.F360M')"
   ]
  },
  {
   "cell_type": "markdown",
   "id": "0fa4565b",
   "metadata": {},
   "source": [
    "The [get_photometry](https://species.readthedocs.io/en/latest/species.read.html#species.read.read_isochrone.ReadIsochrone.get_photometry) method returns a [PhotometryBox](https://species.readthedocs.io/en/latest/species.core.html#species.core.box.PhotometryBox) that contains both the magnitude and flux density. Let's use the [open_box](https://species.readthedocs.io/en/latest/species.core.html#species.core.box.Box.open_box) method to have a look at the content."
   ]
  },
  {
   "cell_type": "code",
   "execution_count": 17,
   "id": "0c32a006",
   "metadata": {},
   "outputs": [
    {
     "name": "stdout",
     "output_type": "stream",
     "text": [
      "Opening PhotometryBox...\n",
      "name = atmo-ceq\n",
      "sptype = None\n",
      "wavelength = [3.62605786956827]\n",
      "flux = [(3.014535553469553e-16, None)]\n",
      "app_mag = [(13.290030072231758, None)]\n",
      "abs_mag = [(11.784880093911852, None)]\n",
      "filter_name = ['JWST/NIRCam.F360M']\n"
     ]
    }
   ],
   "source": [
    "phot_box.open_box()"
   ]
  },
  {
   "cell_type": "markdown",
   "id": "8e06d169",
   "metadata": {},
   "source": [
    "## Computing color-magnitude tracks"
   ]
  },
  {
   "cell_type": "markdown",
   "id": "8d8a301e",
   "metadata": {},
   "source": [
    "Another method that is available for computing synthetic magnitudes, are the [get_color_magnitude](https://species.readthedocs.io/en/latest/species.read.html#species.read.read_isochrone.ReadIsochrone.get_color_magnitude) and [get_color_color](https://species.readthedocs.io/en/latest/species.read.html#species.read.read_isochrone.ReadIsochrone.get_color_color) methods. In contrast to [get_photometry](https://species.readthedocs.io/en/latest/species.read.html#species.read.read_isochrone.ReadIsochrone.get_photometry), we can specify an array with masses, and also the filters for the color and absolute magnitude. In this example, we set the argument of `masses` to `None` such that the mass points from the original grid are used that are closest to an age of 100 Myr.\n",
    "\n",
    "We can specify any of the filters from the [SVO Filter Profile Service](http://svo2.cab.inta-csic.es/svo/theory/fps/) as arguments for `filters_color` and `filter_mag`, since the photometry will be computed from the model spectra instead of extracted from the evolutionary grid. The method selects automatically the associated grid of model spectra and would download the data if not yet present in the [data_folder](https://species.readthedocs.io/en/latest/configuration.html)."
   ]
  },
  {
   "cell_type": "code",
   "execution_count": 18,
   "id": "0ca8aa3b",
   "metadata": {},
   "outputs": [
    {
     "name": "stdout",
     "output_type": "stream",
     "text": [
      "Adding filter: JWST/MIRI.F560W... [DONE]\n",
      "Adding filter: JWST/MIRI.F770W... [DONE]\n"
     ]
    }
   ],
   "source": [
    "color_mag_box = read_iso.get_color_magnitude(age=100.,\n",
    "                                             masses=None,\n",
    "                                             filters_color=('JWST/MIRI.F560W', 'JWST/MIRI.F770W'),\n",
    "                                             filter_mag='JWST/MIRI.F560W')"
   ]
  },
  {
   "cell_type": "markdown",
   "id": "b5581ce6",
   "metadata": {},
   "source": [
    "The [get_color_magnitude](https://species.readthedocs.io/en/latest/species.read.html#species.read.read_isochrone.ReadIsochrone.get_color_magnitude) method returns a [ColorMagBox](https://species.readthedocs.io/en/latest/species.core.html#species.core.box.ColorMagBox) that contains all the data. Let's have a look at its content with [open_box](https://species.readthedocs.io/en/latest/species.core.html#species.core.box.Box.open_box)."
   ]
  },
  {
   "cell_type": "code",
   "execution_count": 19,
   "id": "b7959461",
   "metadata": {},
   "outputs": [
    {
     "name": "stdout",
     "output_type": "stream",
     "text": [
      "Opening ColorMagBox...\n",
      "library = atmo-ceq\n",
      "iso_tag = atmo-ceq\n",
      "object_type = model\n",
      "filters_color = ('JWST/MIRI.F560W', 'JWST/MIRI.F770W')\n",
      "filter_mag = JWST/MIRI.F560W\n",
      "color = [1.2225814  0.85433631 0.60987362 0.46302445 0.37272156 0.32059355\n",
      " 0.29289069 0.25497598 0.2218545  0.16934546 0.12669631 0.08144192\n",
      " 0.03174126 0.0752873  0.04034163 0.03235509 0.03224972 0.03339698\n",
      " 0.03747053 0.04385726 0.05077152 0.06536415 0.07653423 0.09370929\n",
      " 0.10969999 0.12740805 0.14157833 0.15306423 0.16278068 0.16924124\n",
      " 0.17236553 0.17541345 0.17293438 0.17050317 0.16709572 0.16098815\n",
      " 0.1555626  0.14892547 0.14094542 0.13392631 0.12721122 0.12054202\n",
      " 0.11480161 0.10977634 0.10488248 0.10034246 0.09637425 0.09274285\n",
      " 0.08946086 0.08649296 0.08375946 0.0812326  0.07893245 0.0767561\n",
      " 0.07466648 0.07272241 0.07091927 0.06922044 0.06766254 0.06619685\n",
      " 0.06493635 0.0636848  0.06255151 0.0614647  0.06043058 0.059449\n",
      " 0.05852919 0.05763665 0.0567476  0.0559019  0.05510436 0.05433986\n",
      " 0.05360374 0.05289675 0.05221489 0.05156314]\n",
      "magnitude = [19.0571152  17.35353849 16.03949487 15.201354   14.59648256 14.13093968\n",
      " 13.66582476 13.29846327 12.99979954 12.68983154 12.40159297 12.03297965\n",
      " 11.21916912 10.53276244 10.86073842 11.09439472 11.1118395  11.06254276\n",
      " 10.9926841  10.92023241 10.84441641 10.7622634  10.69374162 10.62775206\n",
      " 10.5584758  10.49288969 10.43528959 10.37490079 10.31689199 10.25877279\n",
      " 10.19994679 10.14260667 10.08116971 10.02316225  9.96656577  9.90775903\n",
      "  9.85157548  9.7943828   9.73607953  9.68160275  9.62628353  9.56760264\n",
      "  9.51377593  9.46374851  9.41201156  9.36142425  9.31457995  9.2697477\n",
      "  9.22605893  9.18300049  9.1416206   9.10173682  9.06370229  9.0268919\n",
      "  8.99137648  8.95700526  8.9238884   8.89159773  8.86063828  8.83045492\n",
      "  8.8024766   8.77284924  8.74540425  8.71848997  8.69218784  8.66652862\n",
      "  8.64161137  8.61728519  8.5937309   8.57064518  8.54812893  8.52599338\n",
      "  8.50418114  8.48273587  8.46158621  8.44083035]\n",
      "names = None\n",
      "sptype = None\n",
      "mass = [ 0.52378276  1.04756551  2.09513103  3.14269654  4.19026206  5.23782757\n",
      "  6.28539309  7.3329586   8.38052412  9.42808963 10.47565515 11.52322066\n",
      " 12.57078618 13.61835169 14.66591721 15.71348272 16.76104823 17.80861375\n",
      " 18.85617926 19.90374478 20.95131029 21.99887581 23.04644132 24.09400684\n",
      " 25.14157235 26.18913787 27.23670338 28.2842689  29.33183441 30.37939993\n",
      " 31.42696544 32.47453095 33.52209647 34.56966198 35.6172275  36.66479301\n",
      " 37.71235853 38.75992404 39.80748956 40.85505507 41.90262059 42.9501861\n",
      " 43.99775162 45.04531713 46.09288265 47.14044816 48.18801367 49.23557919\n",
      " 50.2831447  51.33071022 52.37827573 53.42584125 54.47340676 55.52097228\n",
      " 56.56853779 57.61610331 58.66366882 59.71123434 60.75879985 61.80636536\n",
      " 62.85393088 63.90149639 64.94906191 65.99662742 67.04419294 68.09175845\n",
      " 69.13932397 70.18688948 71.234455   72.28202051 73.32958603 74.37715154\n",
      " 75.42471706 76.47228257 77.51984808 78.5674136 ]\n",
      "radius = [1.07904507 1.14021908 1.1716395  1.17916743 1.18267947 1.18234894\n",
      " 1.17941627 1.17542196 1.17108353 1.16725245 1.16553525 1.17313138\n",
      " 1.22661116 1.30784146 1.23860974 1.19506142 1.17922427 1.17152071\n",
      " 1.16693897 1.16406892 1.16243355 1.16326991 1.16320022 1.16398137\n",
      " 1.1654034  1.16752663 1.17009763 1.1731298  1.17652692 1.18033408\n",
      " 1.18446036 1.1888885  1.19373147 1.19897058 1.20452157 1.21039603\n",
      " 1.21651376 1.2229402  1.22959482 1.23646496 1.24353968 1.25086333\n",
      " 1.258366   1.26604744 1.27386113 1.28181197 1.2898484  1.29796845\n",
      " 1.30613904 1.31439804 1.32269372 1.33104161 1.33943155 1.34785985\n",
      " 1.35631085 1.36482463 1.37334495 1.3819219  1.39052997 1.39914585\n",
      " 1.40726217 1.41640495 1.42504561 1.43366853 1.44228345 1.45088109\n",
      " 1.45948849 1.46809576 1.47669858 1.48532386 1.49395381 1.50259519\n",
      " 1.51125239 1.51990769 1.52857923 1.5372489 ]\n"
     ]
    }
   ],
   "source": [
    "color_mag_box.open_box()"
   ]
  },
  {
   "cell_type": "markdown",
   "id": "b22baec1",
   "metadata": {},
   "source": [
    "The attributes from the [ColorMagBox](https://species.readthedocs.io/en/latest/species.core.html#species.core.box.ColorMagBox) can be plotted manually or it can be directly provided as input to the [plot_color_magnitude](https://species.readthedocs.io/en/latest/species.plot.html#species.plot.plot_color.plot_color_magnitude) function. Similarly, a returned [ColorColorBox](https://species.readthedocs.io/en/latest/species.core.html#species.core.box.ColorColorBox) from the [get_color_color](https://species.readthedocs.io/en/latest/species.read.html#species.read.read_isochrone.ReadIsochrone.get_color_color) method of [ReadIsochrone](https://species.readthedocs.io/en/latest/species.read.html#species.read.read_isochrone.ReadIsochrone) can be used as input to the [plot_color_color](https://species.readthedocs.io/en/latest/species.plot.html#species.plot.plot_color.plot_color_color) function.\n",
    "\n",
    "The [plot_color_magnitude](https://species.readthedocs.io/en/latest/species.plot.html#species.plot.plot_color.plot_color_magnitude) function requires a list of [Box](https://species.readthedocs.io/en/latest/species.core.html#species.core.box.Box) objects as input, which is provided as argument of `boxes`. In this example, we only include for simplicity only a single item in the list with `boxes`. We place also several labels at specific masses of the color-magnitude track that we extracted from the *ATMO CEQ* models."
   ]
  },
  {
   "cell_type": "code",
   "execution_count": 20,
   "id": "d55c9e78",
   "metadata": {},
   "outputs": [
    {
     "name": "stdout",
     "output_type": "stream",
     "text": [
      "Plotting color-magnitude diagram..."
     ]
    },
    {
     "data": {
      "image/png": "[encoded data removed]",
      "text/plain": [
       "<Figure size 288x345.6 with 1 Axes>"
      ]
     },
     "metadata": {
      "needs_background": "light"
     },
     "output_type": "display_data"
    },
    {
     "name": "stdout",
     "output_type": "stream",
     "text": [
      " [DONE]\n"
     ]
    }
   ],
   "source": [
    "fig = species.plot_color_magnitude(boxes=[color_mag_box],\n",
    "                                   mass_labels={'atmo-ceq': [(1., 'right'), (5., 'left'), (10., 'left'), (30., 'right')]},\n",
    "                                   label_x=r\"F560W $-$ F770W\",\n",
    "                                   label_y=r\"M$_\\mathrm{F560W}$\",\n",
    "                                   xlim=(-0.5, 1.5),\n",
    "                                   legend={'loc': 'upper right', 'frameon': False, 'fontsize': 12.})"
   ]
  },
  {
   "cell_type": "markdown",
   "id": "1eda59ad",
   "metadata": {},
   "source": [
    "The [plot_color_magnitude](https://species.readthedocs.io/en/latest/species.plot.html#species.plot.plot_color.plot_color_magnitude) returned the [Figure](https://matplotlib.org/stable/api/figure_api.html#matplotlib.figure.Figure) object of the plot. The functionalities of [Matplotlib](https://matplotlib.org/stable/index.html) can be used for further customization of the plot. For example, the axes of the plot are stored at the `axes` attribute of `Figure`."
   ]
  },
  {
   "cell_type": "code",
   "execution_count": 21,
   "id": "fcb946db",
   "metadata": {},
   "outputs": [
    {
     "data": {
      "text/plain": [
       "[<Axes: xlabel='F560W $-$ F770W', ylabel='M$_\\\\mathrm{F560W}$'>]"
      ]
     },
     "execution_count": 21,
     "metadata": {},
     "output_type": "execute_result"
    }
   ],
   "source": [
    "fig.axes"
   ]
  },
  {
   "cell_type": "markdown",
   "id": "fb6ac7b6",
   "metadata": {},
   "source": [
    "In this case the list of axes contains only a single item. As an example we will add an additional data point, update the legend, and increase the fontsize of the axis labels."
   ]
  },
  {
   "cell_type": "code",
   "execution_count": 22,
   "id": "48ea7cbd",
   "metadata": {},
   "outputs": [],
   "source": [
    "fig.axes[0].plot(0., 14, 'o', color='tab:orange', ms=5, label='Example')\n",
    "fig.axes[0].legend(frameon=False, fontsize=12)\n",
    "fig.axes[0].xaxis.label.set_fontsize(18.)\n",
    "fig.axes[0].yaxis.label.set_fontsize(18.)"
   ]
  },
  {
   "cell_type": "markdown",
   "id": "38113f05",
   "metadata": {},
   "source": [
    "To show the updated figure, we simply call the `Figure` object of the plot. To save the plot to a file, the [savefig](https://matplotlib.org/stable/api/_as_gen/matplotlib.pyplot.savefig.html) method of the figure can be used."
   ]
  },
  {
   "cell_type": "code",
   "execution_count": 23,
   "id": "673c0f66",
   "metadata": {},
   "outputs": [
    {
     "data": {
      "image/png": "[encoded data removed]",
      "text/plain": [
       "<Figure size 288x345.6 with 1 Axes>"
      ]
     },
     "execution_count": 23,
     "metadata": {},
     "output_type": "execute_result"
    }
   ],
   "source": [
    "fig"
   ]
  }
 ],
 "metadata": {
  "kernelspec": {
   "display_name": "Python 3 (ipykernel)",
   "language": "python",
   "name": "python3"
  },
  "language_info": {
   "codemirror_mode": {
    "name": "ipython",
    "version": 3
   },
   "file_extension": ".py",
   "mimetype": "text/x-python",
   "name": "python",
   "nbconvert_exporter": "python",
   "pygments_lexer": "ipython3",
   "version": "3.10.0"
  }
 },
 "nbformat": 4,
 "nbformat_minor": 5
}
