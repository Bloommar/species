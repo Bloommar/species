{
 "cells": [
  {
   "cell_type": "markdown",
   "metadata": {},
   "source": [
    "# Color-magnitude diagram: broadband filters"
   ]
  },
  {
   "cell_type": "markdown",
   "metadata": {},
   "source": [
    "This tutorial shows how to create a color-magnitude diagram that includes data of field and young/low-gravity objects, synthetic photometry computed from isochrones and model spectra, and data of directly imaged objects."
   ]
  },
  {
   "cell_type": "markdown",
   "metadata": {},
   "source": [
    "## Initiating *species*"
   ]
  },
  {
   "cell_type": "markdown",
   "metadata": {},
   "source": [
    "We start by importing the required modules."
   ]
  },
  {
   "cell_type": "code",
   "execution_count": 1,
   "metadata": {},
   "outputs": [],
   "source": [
    "import numpy as np\n",
    "import species"
   ]
  },
  {
   "cell_type": "markdown",
   "metadata": {},
   "source": [
    "Next, we initiate the [species](https://species.readthedocs.io/en/latest/species.html) workflow and create an instance of [Database](https://species.readthedocs.io/en/latest/species.data.html#species.data.database.Database)."
   ]
  },
  {
   "cell_type": "code",
   "execution_count": 2,
   "metadata": {},
   "outputs": [
    {
     "name": "stdout",
     "output_type": "stream",
     "text": [
      "Initiating species v0.5.5... [DONE]\n",
      "Creating species_config.ini... [DONE]\n",
      "Database: /Users/tomasstolker/applications/species/docs/tutorials/species_database.hdf5\n",
      "Data folder: /Users/tomasstolker/applications/species/docs/tutorials/data\n",
      "Working folder: /Users/tomasstolker/applications/species/docs/tutorials\n",
      "Grid interpolation method: linear\n",
      "Creating species_database.hdf5... [DONE]\n",
      "Creating data folder... [DONE]\n"
     ]
    }
   ],
   "source": [
    "species.SpeciesInit()\n",
    "database = species.Database()"
   ]
  },
  {
   "cell_type": "markdown",
   "metadata": {},
   "source": [
    "## Adding data to the database"
   ]
  },
  {
   "cell_type": "markdown",
   "metadata": {},
   "source": [
    "Available magnitudes and spectra of directly imaged planets and brown dwarfs are added to the database with [add_companion](https://species.readthedocs.io/en/latest/species.data.html#species.data.database.Database.add_companion) by setting `name=None`. These data are extracted from the [companion_data](https://github.com/tomasstolker/species/blob/master/species/data/companion_data.json) and [companion_spectra](https://github.com/tomasstolker/species/blob/master/species/data/companion_spectra.json) files in the [data](https://species.readthedocs.io/en/latest/species.data.html) subpackage."
   ]
  },
  {
   "cell_type": "code",
   "execution_count": 3,
   "metadata": {},
   "outputs": [
    {
     "name": "stdout",
     "output_type": "stream",
     "text": [
      "Adding filter: Magellan/VisAO.Ys... [DONE]\n",
      "Adding filter: Paranal/NACO.J... [DONE]\n",
      "Adding filter: Gemini/NICI.ED286... [DONE]\n",
      "Adding filter: Paranal/NACO.H... [DONE]\n",
      "Adding filter: Paranal/NACO.Ks... [DONE]\n",
      "Adding filter: Paranal/NACO.NB374... [DONE]\n",
      "Adding filter: Paranal/NACO.Lp... [DONE]\n",
      "Adding filter: Paranal/NACO.NB405... [DONE]\n",
      "Adding filter: Paranal/NACO.Mp... [DONE]\n",
      "Downloading Vega spectrum (270 kB)... [DONE]\n",
      "Adding Vega spectrum... [DONE]\n",
      "Adding object: beta Pic b [DONE]\n",
      "Adding filter: MKO/NSFCam.K..."
     ]
    },
    {
     "name": "stderr",
     "output_type": "stream",
     "text": [
      "/Users/tomasstolker/applications/species/species/data/database.py:1273: UserWarning: Found 33 fluxes with NaN in the data of GPI_YJHK. Removing the spectral fluxes that contain a NaN.\n",
      "  warnings.warn(\n"
     ]
    },
    {
     "name": "stdout",
     "output_type": "stream",
     "text": [
      " [DONE]\n",
      "Adding object: beta Pic c [DONE]\n",
      "Adding filter: Paranal/SPHERE.IRDIS_D_H23_2... [DONE]\n",
      "Adding filter: Paranal/SPHERE.IRDIS_D_H23_3... [DONE]\n",
      "Adding filter: Paranal/SPHERE.IRDIS_D_K12_1... [DONE]\n",
      "Adding filter: Paranal/SPHERE.IRDIS_D_K12_2... [DONE]\n",
      "Adding object: HIP 65426 b [DONE]\n",
      "Adding filter: MKO/NSFCam.J... [DONE]\n",
      "Adding filter: MKO/NSFCam.H... [DONE]\n",
      "Adding filter: Paranal/SPHERE.IRDIS_B_H... [DONE]\n",
      "Adding filter: Keck/NIRC2.Lp... [DONE]\n",
      "Adding filter: Keck/NIRC2.Ms... [DONE]\n",
      "Adding object: 51 Eri b [DONE]\n",
      "Adding filter: Subaru/CIAO.z... [DONE]\n",
      "Adding filter: Paranal/SPHERE.IRDIS_B_J..."
     ]
    },
    {
     "name": "stderr",
     "output_type": "stream",
     "text": [
      "/Users/tomasstolker/applications/species/species/data/filters.py:209: UserWarning: The minimum transmission value of Subaru/CIAO.z is smaller than zero (-1.80e-03). Wavelengths with negative transmission values will be removed.\n",
      "  warnings.warn(\n"
     ]
    },
    {
     "name": "stdout",
     "output_type": "stream",
     "text": [
      " [DONE]\n",
      "Adding filter: Keck/NIRC2.H... [DONE]\n",
      "Adding filter: Keck/NIRC2.Ks... [DONE]\n",
      "Adding object: HR 8799 b [DONE]\n",
      "Adding object: HR 8799 c [DONE]\n",
      "Adding object: HR 8799 d [DONE]\n",
      "Adding object: HR 8799 e [DONE]\n",
      "Adding filter: Gemini/GPI.H... [DONE]\n",
      "Adding filter: Gemini/GPI.K1... [DONE]\n",
      "Adding object: HD 95086 b [DONE]\n",
      "Adding object: PDS 70 b [DONE]\n",
      "Adding object: PDS 70 c [DONE]\n",
      "Adding filter: HST/NICMOS1.F090M... [DONE]\n",
      "Adding filter: HST/NICMOS1.F110M... [DONE]\n",
      "Adding filter: HST/NICMOS1.F145M... [DONE]\n",
      "Adding filter: HST/NICMOS1.F160W... [DONE]\n",
      "Adding object: 2M 1207 B [DONE]\n",
      "Adding object: AB Pic B [DONE]\n",
      "Adding object: HD 206893 B [DONE]\n",
      "Adding filter: Paranal/SPHERE.IRDIS_B_Ks... [DONE]\n",
      "Adding object: RZ Psc B [DONE]\n",
      "Adding filter: HST/WFPC2-PC.F606W... [DONE]\n",
      "Adding filter: HST/WFPC2-PC.F814W... [DONE]\n",
      "Adding filter: HST/NICMOS2.F171M... [DONE]\n",
      "Adding filter: HST/NICMOS2.F190N... [DONE]\n",
      "Adding filter: HST/NICMOS2.F215N... [DONE]\n",
      "Adding filter: Magellan/VisAO.ip... [DONE]\n",
      "Adding filter: Magellan/VisAO.zp... [DONE]\n",
      "Adding filter: Subaru/CIAO.CH4s... [DONE]\n",
      "Adding filter: Subaru/CIAO.K... [DONE]\n",
      "Adding filter: Subaru/CIAO.Lp... [DONE]\n",
      "Adding object: GQ Lup B [DONE]\n",
      "Adding filter: Paranal/SPHERE.ZIMPOL_R_PRIM... [DONE]\n",
      "Adding filter: Paranal/SPHERE.ZIMPOL_I_PRIM... [DONE]\n",
      "Adding filter: Gemini/NIRI.H2S1v2-1-G0220... [DONE]\n",
      "Adding object: PZ Tel B [DONE]\n",
      "Adding filter: Subaru/CIAO.J... [DONE]\n",
      "Adding filter: Subaru/CIAO.H... [DONE]\n",
      "Adding filter: Subaru/CIAO.Ks... [DONE]\n",
      "Adding filter: Keck/NIRC2.NB_4.05... [DONE]\n",
      "Adding filter: LBT/LMIRCam.M_77K... [DONE]\n",
      "Adding object: kappa And b [DONE]\n",
      "Adding filter: MKO/NSFCam.Ks... [DONE]\n",
      "Adding object: HD 1160 B [DONE]\n",
      "Adding filter: MKO/NSFCam.Kp... [DONE]\n",
      "Adding object: ROXs 12 B [DONE]\n",
      "Adding filter: Keck/NIRC2.J... [DONE]\n",
      "Adding object: ROXs 42 Bb [DONE]\n",
      "Adding filter: Paranal/SPHERE.IRDIS_D_Y23_2... [DONE]\n",
      "Adding filter: Paranal/SPHERE.IRDIS_D_Y23_3... [DONE]\n",
      "Adding filter: Paranal/SPHERE.IRDIS_D_J23_3... [DONE]\n",
      "Adding filter: Subaru/IRCS.Lp... [DONE]\n",
      "Adding object: GJ 504 b [DONE]\n",
      "Adding filter: Gemini/GMOS-S.z... [DONE]\n",
      "Adding filter: CFHT/Wircam.Y... [DONE]\n",
      "Adding filter: CFHT/Wircam.J... [DONE]\n",
      "Adding filter: CFHT/Wircam.H... [DONE]\n",
      "Adding filter: CFHT/Wircam.Ks... [DONE]\n",
      "Adding filter: WISE/WISE.W1... [DONE]\n",
      "Adding filter: WISE/WISE.W2... [DONE]\n",
      "Adding object: GU Psc b [DONE]\n",
      "Adding object: 2M0103 ABb [DONE]\n",
      "Adding filter: Gemini/NIRI.J-G0202w... [DONE]\n",
      "Adding filter: Gemini/NIRI.H-G0203w... [DONE]\n",
      "Adding filter: Gemini/NIRI.K-G0204w... [DONE]\n",
      "Adding filter: Gemini/NIRI.Lprime-G0207w... [DONE]\n",
      "Adding object: 1RXS 1609 B [DONE]\n",
      "Adding filter: MKO/NSFCam.Lp... [DONE]\n",
      "Adding object: GSC 06214 B [DONE]\n",
      "Adding object: HD 72946 B [DONE]\n",
      "Adding object: HIP 64892 B [DONE]\n",
      "Adding filter: Paranal/SPHERE.IRDIS_D_J23_2... [DONE]\n",
      "Adding object: HD 13724 B [DONE]\n",
      "Adding object: YSES 1 b [DONE]\n",
      "Adding object: YSES 1 c [DONE]\n",
      "Adding object: YSES 2 b [DONE]\n",
      "Adding object: HD 142527 B [DONE]\n",
      "Adding object: CS Cha B [DONE]\n",
      "Adding object: CT Cha B [DONE]\n",
      "Adding object: SR 12 C [DONE]\n",
      "Adding object: DH Tau B [DONE]\n",
      "Adding object: HD 4747 B [DONE]\n",
      "Adding filter: Paranal/SPHERE.IRDIS_B_Y... [DONE]\n",
      "Adding object: HR 3549 B [DONE]\n",
      "Adding filter: HST/ACS_WFC.F775W... [DONE]\n",
      "Adding filter: HST/ACS_WFC.F850LP... [DONE]\n",
      "Adding object: CHXR 73 B [DONE]\n",
      "Adding object: HD 19467 B [DONE]\n",
      "Adding object: b Cen (AB)b [DONE]\n"
     ]
    }
   ],
   "source": [
    "database.add_companion(name=None, verbose=False)"
   ]
  },
  {
   "cell_type": "markdown",
   "metadata": {},
   "source": [
    "We also add the photometry and parallaxes of the [Database of Ultracool Parallaxes](http://www.as.utexas.edu/~tdupuy/plx/Database_of_Ultracool_Parallaxes.html)."
   ]
  },
  {
   "cell_type": "code",
   "execution_count": 4,
   "metadata": {},
   "outputs": [
    {
     "name": "stderr",
     "output_type": "stream",
     "text": [
      "Downloading data from 'http://www.as.utexas.edu/~tdupuy/plx/Database_of_Ultracool_Parallaxes_files/vlm-plx-all.fits' to file '/Users/tomasstolker/applications/species/docs/tutorials/data/vlm-plx-all.fits'.\n",
      "100%|████████████████████████████████████████| 314k/314k [00:00<00:00, 130MB/s]"
     ]
    },
    {
     "name": "stdout",
     "output_type": "stream",
     "text": [
      "Adding Database of Ultracool Parallaxes..."
     ]
    },
    {
     "name": "stderr",
     "output_type": "stream",
     "text": [
      "\n"
     ]
    },
    {
     "name": "stdout",
     "output_type": "stream",
     "text": [
      " [DONE]\n"
     ]
    }
   ],
   "source": [
    "database.add_photometry('vlm-plx')"
   ]
  },
  {
   "cell_type": "markdown",
   "metadata": {},
   "source": [
    "Next, we add the isochrones from AMES-Cond and AMES-Dusty, which have been retrieved from https://phoenix.ens-lyon.fr/Grids/."
   ]
  },
  {
   "cell_type": "code",
   "execution_count": 5,
   "metadata": {},
   "outputs": [
    {
     "name": "stdout",
     "output_type": "stream",
     "text": [
      "Downloading AMES-Cond isochrones (235 kB)... [DONE]\n",
      "Adding isochrones: ames-cond... [DONE]\n",
      "Database tag: ames-cond\n",
      "Downloading AMES-Dusty isochrones (182 kB)... [DONE]\n",
      "Adding isochrones: ames-dusty... [DONE]\n",
      "Database tag: ames-dusty\n"
     ]
    }
   ],
   "source": [
    "database.add_isochrones('ames')"
   ]
  },
  {
   "cell_type": "markdown",
   "metadata": {},
   "source": [
    "Finally, we need to add the grid with AMES-Cond model spectra. The full grid of spectra is downloaded but spectra with a $T_\\mathrm{eff}$ outside the chosen `teff_range` are not added to the database."
   ]
  },
  {
   "cell_type": "code",
   "execution_count": 6,
   "metadata": {},
   "outputs": [
    {
     "name": "stdout",
     "output_type": "stream",
     "text": [
      "Downloading AMES-Cond model spectra (150 MB)... [DONE]\n",
      "Unpacking AMES-Cond model spectra (150 MB)... [DONE]\n",
      "Wavelength range (um) = 0.5 - 40\n",
      "Spectral resolution = 4000\n",
      "Teff range (K) = 100.0 - 4000.0\n",
      "Adding AMES-Cond model spectra... [DONE]                               \n",
      "Grid points stored in the database:\n",
      "   - Teff = [ 100.  200.  300.  400.  500.  600.  700.  800.  900. 1000. 1100. 1200.\n",
      " 1300. 1400. 1500. 1600. 1700. 1800. 1900. 2000. 2100. 2200. 2300. 2400.\n",
      " 2500. 2600. 2700. 2800. 2900. 3000. 3100. 3200. 3300. 3400. 3500. 3600.\n",
      " 3700. 3800. 3900. 4000.]\n",
      "   - log(g) = [2.5 3.  3.5 4.  4.5 5.  5.5]\n",
      "Number of grid points per parameter:\n",
      "   - teff: 40\n",
      "   - logg: 7\n",
      "Fix missing grid points with a linear interpolation:\n",
      "   - teff = 200.0, logg = 5.5\n",
      "   - teff = 900.0, logg = 2.5\n",
      "Number of stored grid points: 280\n",
      "Number of interpolated grid points: 2\n",
      "Number of missing grid points: 0\n"
     ]
    },
    {
     "name": "stderr",
     "output_type": "stream",
     "text": [
      "/Users/tomasstolker/applications/species/species/util/data_util.py:380: RuntimeWarning: divide by zero encountered in log10\n",
      "  flux = np.log10(flux)\n"
     ]
    }
   ],
   "source": [
    "database.add_model(model='ames-cond',\n",
    "                   teff_range=(100., 4000.))"
   ]
  },
  {
   "cell_type": "markdown",
   "metadata": {},
   "source": [
    "Also the AMES-Dusty spectra are downloaded and imported into the database."
   ]
  },
  {
   "cell_type": "code",
   "execution_count": 7,
   "metadata": {},
   "outputs": [
    {
     "name": "stdout",
     "output_type": "stream",
     "text": [
      "Downloading AMES-Dusty model spectra (59 MB)... [DONE]\n",
      "Unpacking AMES-Dusty model spectra (59 MB)... [DONE]\n",
      "Wavelength range (um) = 0.5 - 40\n",
      "Spectral resolution = 4000\n",
      "Teff range (K) = 100.0 - 4000.0\n",
      "Adding AMES-Dusty model spectra... [DONE]                                \n",
      "Grid points stored in the database:\n",
      "   - Teff = [ 500.  600.  700.  800.  900. 1000. 1100. 1200. 1300. 1400. 1500. 1600.\n",
      " 1700. 1800. 1900. 2000. 2100. 2200. 2300. 2400. 2500. 2600. 2700. 2800.\n",
      " 2900. 3000. 3100. 3200. 3300. 3400. 3500. 3600. 3700. 3800. 3900. 4000.]\n",
      "   - log(g) = [3.5 4.  4.5 5.  5.5 6. ]\n",
      "Number of grid points per parameter:\n",
      "   - teff: 36\n",
      "   - logg: 6\n",
      "Fix missing grid points with a linear interpolation:\n",
      "   - teff = 2100.0, logg = 3.5\n",
      "   - teff = 2100.0, logg = 4.5\n",
      "   - teff = 2400.0, logg = 5.0\n",
      "   - teff = 3100.0, logg = 3.5\n",
      "   - teff = 3200.0, logg = 3.5\n",
      "   - teff = 3300.0, logg = 3.5\n",
      "   - teff = 3400.0, logg = 3.5\n",
      "   - teff = 3500.0, logg = 3.5\n",
      "   - teff = 3600.0, logg = 3.5\n",
      "   - teff = 3700.0, logg = 3.5\n",
      "   - teff = 3800.0, logg = 3.5\n",
      "   - teff = 3900.0, logg = 3.5\n",
      "   - teff = 3900.0, logg = 6.0\n",
      "   - teff = 4000.0, logg = 3.5\n",
      "   - teff = 4000.0, logg = 4.0\n",
      "   - teff = 4000.0, logg = 4.5\n",
      "   - teff = 4000.0, logg = 5.5\n",
      "   - teff = 4000.0, logg = 6.0\n",
      "Could not interpolate 24 grid points so storing zeros instead. [WARNING]\n",
      "The grid points that are missing:\n",
      "   - teff = 900.0, logg = 6.0\n",
      "   - teff = 1100.0, logg = 5.5\n",
      "   - teff = 1100.0, logg = 6.0\n",
      "   - teff = 1200.0, logg = 5.5\n",
      "   - teff = 1200.0, logg = 6.0\n",
      "   - teff = 2100.0, logg = 3.5\n",
      "   - teff = 2100.0, logg = 4.0\n",
      "   - teff = 2200.0, logg = 3.5\n",
      "   - teff = 2200.0, logg = 4.0\n",
      "   - teff = 3100.0, logg = 3.5\n",
      "   - teff = 3200.0, logg = 3.5\n",
      "   - teff = 3300.0, logg = 3.5\n",
      "   - teff = 3400.0, logg = 3.5\n",
      "   - teff = 3500.0, logg = 3.5\n",
      "   - teff = 3600.0, logg = 3.5\n",
      "   - teff = 3700.0, logg = 3.5\n",
      "   - teff = 3800.0, logg = 3.5\n",
      "   - teff = 3900.0, logg = 3.5\n",
      "   - teff = 3900.0, logg = 6.0\n",
      "   - teff = 4000.0, logg = 3.5\n",
      "   - teff = 4000.0, logg = 4.0\n",
      "   - teff = 4000.0, logg = 4.5\n",
      "   - teff = 4000.0, logg = 5.5\n",
      "   - teff = 4000.0, logg = 6.0\n",
      "Number of stored grid points: 216\n",
      "Number of interpolated grid points: 3\n",
      "Number of missing grid points: 24\n"
     ]
    }
   ],
   "source": [
    "database.add_model(model='ames-dusty',\n",
    "                   teff_range=(100., 4000.))"
   ]
  },
  {
   "cell_type": "markdown",
   "metadata": {},
   "source": [
    "We are now ready with preparing the HDF5 database. The [list_content](https://species.readthedocs.io/en/latest/species.data.html#species.data.database.Database.list_content) method of the [Database](https://species.readthedocs.io/en/latest/species.data.html#species.data.database.Database) object can be used for printing an overview of all the data that are stored in the database."
   ]
  },
  {
   "cell_type": "markdown",
   "metadata": {},
   "source": [
    "## Synthetic photometry from isochrones"
   ]
  },
  {
   "cell_type": "markdown",
   "metadata": {},
   "source": [
    "Magnitudes from the isochrone data can be extracted with the [get_isochrone](https://species.readthedocs.io/en/latest/species.read.html#species.read.read_isochrone.ReadIsochrone.get_isochrone) function of [ReadIsochrone](https://species.readthedocs.io/en/latest/species.read.html#species.read.read_isochrone.ReadIsochrone). However, in this example, we consistently recompute the synthetic photometry by making use of both the evolutionary tracks and the synthetic spectra."
   ]
  },
  {
   "cell_type": "markdown",
   "metadata": {},
   "source": [
    "The isochrones will be iterpolated for three different ages and the synthetic photometry is computed at 100 logarithmically-spaced masses."
   ]
  },
  {
   "cell_type": "code",
   "execution_count": 8,
   "metadata": {},
   "outputs": [],
   "source": [
    "ages = [20., 100.]  # (Myr)\n",
    "masses = np.logspace(0., 3., 100)  # (Mjup)"
   ]
  },
  {
   "cell_type": "markdown",
   "metadata": {},
   "source": [
    "We create instances of [ReadIsochrone](https://species.readthedocs.io/en/latest/species.read.html#species.read.read_isochrone.ReadIsochrone) for both the AMES-Cond and AMES-Dusty isochrones. We note though that the evolutionary data of these two models are actually the same. Only the magnitudes of the isochrones (which we do not use) are different."
   ]
  },
  {
   "cell_type": "code",
   "execution_count": 9,
   "metadata": {},
   "outputs": [],
   "source": [
    "read_iso_cond = species.ReadIsochrone(tag='ames-cond')\n",
    "read_iso_dusty = species.ReadIsochrone(tag='ames-dusty')"
   ]
  },
  {
   "cell_type": "markdown",
   "metadata": {},
   "source": [
    "The colors and magnitudes are computed by chosing the corresponding model grids from the database. The output is stored in [ColorMagBox](https://species.readthedocs.io/en/latest/species.core.html#species.core.box.ColorMagBox) objects for the three different ages."
   ]
  },
  {
   "cell_type": "code",
   "execution_count": 10,
   "metadata": {},
   "outputs": [
    {
     "name": "stderr",
     "output_type": "stream",
     "text": [
      "/Users/tomasstolker/applications/species/species/read/read_isochrone.py:935: UserWarning: The value of teff is 4019.3207105807364, which is above the upper bound of the model grid (4000.0). Setting the magnitudes to NaN for the following isochrone sample: {'teff': 4019.3207105807364, 'logg': 4.351948444496957, 'radius': 10.170788710818773, 'distance': 10.0}.\n",
      "  warnings.warn(\n",
      "/Users/tomasstolker/applications/species/species/read/read_isochrone.py:935: UserWarning: The value of teff is 4164.404431717177, which is above the upper bound of the model grid (4000.0). Setting the magnitudes to NaN for the following isochrone sample: {'teff': 4164.404431717177, 'logg': 4.329081153206135, 'radius': 10.739016824226589, 'distance': 10.0}.\n",
      "  warnings.warn(\n",
      "/Users/tomasstolker/applications/species/species/read/read_isochrone.py:910: UserWarning: The value of logg is 2.9180307893338338, which is below the lower bound of the model grid (3.5). Setting the magnitudes to NaN for the following isochrone sample: {'teff': 501.3730414241427, 'logg': 2.9180307893338338, 'radius': 1.4638670830301985, 'distance': 10.0}.\n",
      "  warnings.warn(\n",
      "/Users/tomasstolker/applications/species/species/read/read_isochrone.py:910: UserWarning: The value of logg is 2.9730768802029495, which is below the lower bound of the model grid (3.5). Setting the magnitudes to NaN for the following isochrone sample: {'teff': 502.5270292688421, 'logg': 2.9730768802029495, 'radius': 1.441670727659954, 'distance': 10.0}.\n",
      "  warnings.warn(\n",
      "/Users/tomasstolker/applications/species/species/read/read_isochrone.py:910: UserWarning: The value of logg is 3.0355631548565696, which is below the lower bound of the model grid (3.5). Setting the magnitudes to NaN for the following isochrone sample: {'teff': 504.9233097703563, 'logg': 3.0355631548565696, 'radius': 1.4150903616033272, 'distance': 10.0}.\n",
      "  warnings.warn(\n",
      "/Users/tomasstolker/applications/species/species/read/read_isochrone.py:910: UserWarning: The value of logg is 3.1025651389931803, which is below the lower bound of the model grid (3.5). Setting the magnitudes to NaN for the following isochrone sample: {'teff': 507.4927628068724, 'logg': 3.1025651389931803, 'radius': 1.3865891063317703, 'distance': 10.0}.\n",
      "  warnings.warn(\n",
      "/Users/tomasstolker/applications/species/species/read/read_isochrone.py:910: UserWarning: The value of logg is 3.207337823869265, which is below the lower bound of the model grid (3.5). Setting the magnitudes to NaN for the following isochrone sample: {'teff': 520.0556848108937, 'logg': 3.207337823869265, 'radius': 1.328194511799377, 'distance': 10.0}.\n",
      "  warnings.warn(\n",
      "/Users/tomasstolker/applications/species/species/read/read_isochrone.py:910: UserWarning: The value of logg is 3.3065271787010397, which is below the lower bound of the model grid (3.5). Setting the magnitudes to NaN for the following isochrone sample: {'teff': 534.0174915985033, 'logg': 3.3065271787010397, 'radius': 1.274758290992437, 'distance': 10.0}.\n",
      "  warnings.warn(\n",
      "/Users/tomasstolker/applications/species/species/read/read_isochrone.py:910: UserWarning: The value of logg is 3.3387964574578715, which is below the lower bound of the model grid (3.5). Setting the magnitudes to NaN for the following isochrone sample: {'teff': 543.9916323051601, 'logg': 3.3387964574578715, 'radius': 1.2725698348137873, 'distance': 10.0}.\n",
      "  warnings.warn(\n",
      "/Users/tomasstolker/applications/species/species/read/read_isochrone.py:910: UserWarning: The value of logg is 3.372282732356024, which is below the lower bound of the model grid (3.5). Setting the magnitudes to NaN for the following isochrone sample: {'teff': 556.2475974396231, 'logg': 3.372282732356024, 'radius': 1.2706911157956755, 'distance': 10.0}.\n",
      "  warnings.warn(\n",
      "/Users/tomasstolker/applications/species/species/read/read_isochrone.py:910: UserWarning: The value of logg is 3.407135965646942, which is below the lower bound of the model grid (3.5). Setting the magnitudes to NaN for the following isochrone sample: {'teff': 570.8634694648467, 'logg': 3.407135965646942, 'radius': 1.269118495295348, 'distance': 10.0}.\n",
      "  warnings.warn(\n",
      "/Users/tomasstolker/applications/species/species/read/read_isochrone.py:910: UserWarning: The value of logg is 3.444507945285873, which is below the lower bound of the model grid (3.5). Setting the magnitudes to NaN for the following isochrone sample: {'teff': 586.5355899585918, 'logg': 3.444507945285873, 'radius': 1.2674322258801856, 'distance': 10.0}.\n",
      "  warnings.warn(\n",
      "/Users/tomasstolker/applications/species/species/read/read_isochrone.py:910: UserWarning: The value of logg is 3.484580694074335, which is below the lower bound of the model grid (3.5). Setting the magnitudes to NaN for the following isochrone sample: {'teff': 603.3402910634309, 'logg': 3.484580694074335, 'radius': 1.2656240944588282, 'distance': 10.0}.\n",
      "  warnings.warn(\n",
      "/Users/tomasstolker/applications/species/species/read/read_isochrone.py:935: UserWarning: The value of teff is 4081.4355631859694, which is above the upper bound of the model grid (4000.0). Setting the magnitudes to NaN for the following isochrone sample: {'teff': 4081.4355631859694, 'logg': 4.667985184351259, 'radius': 5.914180524946677, 'distance': 10.0}.\n",
      "  warnings.warn(\n",
      "/Users/tomasstolker/applications/species/species/read/read_isochrone.py:935: UserWarning: The value of teff is 4185.2608377397555, which is above the upper bound of the model grid (4000.0). Setting the magnitudes to NaN for the following isochrone sample: {'teff': 4185.2608377397555, 'logg': 4.656638159809863, 'radius': 6.199078262481065, 'distance': 10.0}.\n",
      "  warnings.warn(\n",
      "/Users/tomasstolker/applications/species/species/read/read_isochrone.py:935: UserWarning: The value of teff is 4325.615910494432, which is above the upper bound of the model grid (4000.0). Setting the magnitudes to NaN for the following isochrone sample: {'teff': 4325.615910494432, 'logg': 4.641153787722841, 'radius': 6.55382759835061, 'distance': 10.0}.\n",
      "  warnings.warn(\n",
      "/Users/tomasstolker/applications/species/species/read/read_isochrone.py:935: UserWarning: The value of teff is 4512.024881795706, which is above the upper bound of the model grid (4000.0). Setting the magnitudes to NaN for the following isochrone sample: {'teff': 4512.024881795706, 'logg': 4.610559348746733, 'radius': 7.038423776652953, 'distance': 10.0}.\n",
      "  warnings.warn(\n",
      "/Users/tomasstolker/applications/species/species/read/read_isochrone.py:935: UserWarning: The value of teff is 4704.664806542345, which is above the upper bound of the model grid (4000.0). Setting the magnitudes to NaN for the following isochrone sample: {'teff': 4704.664806542345, 'logg': 4.571845570260296, 'radius': 7.623463332054268, 'distance': 10.0}.\n",
      "  warnings.warn(\n",
      "/Users/tomasstolker/applications/species/species/read/read_isochrone.py:935: UserWarning: The value of teff is 4915.122843504473, which is above the upper bound of the model grid (4000.0). Setting the magnitudes to NaN for the following isochrone sample: {'teff': 4915.122843504473, 'logg': 4.527793777987827, 'radius': 8.265784389535268, 'distance': 10.0}.\n",
      "  warnings.warn(\n",
      "/Users/tomasstolker/applications/species/species/read/read_isochrone.py:935: UserWarning: The value of teff is 5129.6908172285885, which is above the upper bound of the model grid (4000.0). Setting the magnitudes to NaN for the following isochrone sample: {'teff': 5129.6908172285885, 'logg': 4.487243459618406, 'radius': 8.971175402210688, 'distance': 10.0}.\n",
      "  warnings.warn(\n",
      "/Users/tomasstolker/applications/species/species/read/read_isochrone.py:910: UserWarning: The value of logg is 2.7961969975244876, which is below the lower bound of the model grid (3.5). Setting the magnitudes to NaN for the following isochrone sample: {'teff': 501.58438710058044, 'logg': 2.7961969975244876, 'radius': 1.5064919873572373, 'distance': 10.0}.\n",
      "  warnings.warn(\n",
      "/Users/tomasstolker/applications/species/species/read/read_isochrone.py:910: UserWarning: The value of logg is 2.8072667505973876, which is below the lower bound of the model grid (3.5). Setting the magnitudes to NaN for the following isochrone sample: {'teff': 501.6880174178661, 'logg': 2.8072667505973876, 'radius': 1.5031419477567405, 'distance': 10.0}.\n",
      "  warnings.warn(\n",
      "/Users/tomasstolker/applications/species/species/read/read_isochrone.py:910: UserWarning: The value of logg is 2.820805889271204, which is below the lower bound of the model grid (3.5). Setting the magnitudes to NaN for the following isochrone sample: {'teff': 501.6648632173275, 'logg': 2.820805889271204, 'radius': 1.4989194659748202, 'distance': 10.0}.\n",
      "  warnings.warn(\n",
      "/Users/tomasstolker/applications/species/species/read/read_isochrone.py:910: UserWarning: The value of logg is 2.8353234638853895, which is below the lower bound of the model grid (3.5). Setting the magnitudes to NaN for the following isochrone sample: {'teff': 501.640035727038, 'logg': 2.8353234638853895, 'radius': 1.494391837164531, 'distance': 10.0}.\n",
      "  warnings.warn(\n",
      "/Users/tomasstolker/applications/species/species/read/read_isochrone.py:910: UserWarning: The value of logg is 2.855670027860674, which is below the lower bound of the model grid (3.5). Setting the magnitudes to NaN for the following isochrone sample: {'teff': 501.65383479103104, 'logg': 2.855670027860674, 'radius': 1.4883035183626285, 'distance': 10.0}.\n",
      "  warnings.warn(\n",
      "/Users/tomasstolker/applications/species/species/read/read_isochrone.py:910: UserWarning: The value of logg is 2.879927968286292, which is below the lower bound of the model grid (3.5). Setting the magnitudes to NaN for the following isochrone sample: {'teff': 501.6892732862044, 'logg': 2.879927968286292, 'radius': 1.4811452905054687, 'distance': 10.0}.\n",
      "  warnings.warn(\n",
      "/Users/tomasstolker/applications/species/species/read/read_isochrone.py:910: UserWarning: The value of logg is 2.905938962678162, which is below the lower bound of the model grid (3.5). Setting the magnitudes to NaN for the following isochrone sample: {'teff': 501.7272728229761, 'logg': 2.905938962678162, 'radius': 1.473469757406555, 'distance': 10.0}.\n",
      "  warnings.warn(\n",
      "/Users/tomasstolker/applications/species/species/read/read_isochrone.py:910: UserWarning: The value of logg is 2.9339822921321925, which is below the lower bound of the model grid (3.5). Setting the magnitudes to NaN for the following isochrone sample: {'teff': 501.84752531806237, 'logg': 2.9339822921321925, 'radius': 1.465193882836573, 'distance': 10.0}.\n",
      "  warnings.warn(\n",
      "/Users/tomasstolker/applications/species/species/read/read_isochrone.py:910: UserWarning: The value of logg is 2.9644919021316207, which is below the lower bound of the model grid (3.5). Setting the magnitudes to NaN for the following isochrone sample: {'teff': 502.20555197078545, 'logg': 2.9644919021316207, 'radius': 1.4561883961908293, 'distance': 10.0}.\n",
      "  warnings.warn(\n",
      "/Users/tomasstolker/applications/species/species/read/read_isochrone.py:910: UserWarning: The value of logg is 3.0026726111414517, which is below the lower bound of the model grid (3.5). Setting the magnitudes to NaN for the following isochrone sample: {'teff': 503.0100115950047, 'logg': 3.0026726111414517, 'radius': 1.4449586973534068, 'distance': 10.0}.\n",
      "  warnings.warn(\n",
      "/Users/tomasstolker/applications/species/species/read/read_isochrone.py:910: UserWarning: The value of logg is 3.0444294083637633, which is below the lower bound of the model grid (3.5). Setting the magnitudes to NaN for the following isochrone sample: {'teff': 503.93545547538565, 'logg': 3.0444294083637633, 'radius': 1.4326823296312547, 'distance': 10.0}.\n",
      "  warnings.warn(\n",
      "/Users/tomasstolker/applications/species/species/read/read_isochrone.py:910: UserWarning: The value of logg is 3.0892038533213797, which is below the lower bound of the model grid (3.5). Setting the magnitudes to NaN for the following isochrone sample: {'teff': 504.92777861412816, 'logg': 3.0892038533213797, 'radius': 1.4195187829174454, 'distance': 10.0}.\n",
      "  warnings.warn(\n",
      "/Users/tomasstolker/applications/species/species/read/read_isochrone.py:910: UserWarning: The value of logg is 3.1490344602161873, which is below the lower bound of the model grid (3.5). Setting the magnitudes to NaN for the following isochrone sample: {'teff': 506.1240352668346, 'logg': 3.1490344602161873, 'radius': 1.4012157774301066, 'distance': 10.0}.\n",
      "  warnings.warn(\n",
      "/Users/tomasstolker/applications/species/species/read/read_isochrone.py:910: UserWarning: The value of logg is 3.2286358747595356, which is below the lower bound of the model grid (3.5). Setting the magnitudes to NaN for the following isochrone sample: {'teff': 506.35983582050795, 'logg': 3.2286358747595356, 'radius': 1.3753758265566598, 'distance': 10.0}.\n",
      "  warnings.warn(\n",
      "/Users/tomasstolker/applications/species/species/read/read_isochrone.py:910: UserWarning: The value of logg is 3.331188032984285, which is below the lower bound of the model grid (3.5). Setting the magnitudes to NaN for the following isochrone sample: {'teff': 505.06156677568043, 'logg': 3.331188032984285, 'radius': 1.3405155245172165, 'distance': 10.0}.\n",
      "  warnings.warn(\n",
      "/Users/tomasstolker/applications/species/species/read/read_isochrone.py:910: UserWarning: The value of logg is 3.4411513507951, which is below the lower bound of the model grid (3.5). Setting the magnitudes to NaN for the following isochrone sample: {'teff': 503.6694754335613, 'logg': 3.4411513507951, 'radius': 1.3031359652909418, 'distance': 10.0}.\n",
      "  warnings.warn(\n"
     ]
    }
   ],
   "source": [
    "boxes = []\n",
    "\n",
    "for item in ages:\n",
    "\n",
    "    modelcolor1 = read_iso_cond.get_color_magnitude(age=item,\n",
    "                                                    masses=masses,\n",
    "                                                    filters_color=('MKO/NSFCam.H', 'MKO/NSFCam.Lp'),\n",
    "                                                    filter_mag='MKO/NSFCam.Lp')\n",
    "\n",
    "    modelcolor2 = read_iso_dusty.get_color_magnitude(age=item,\n",
    "                                                     masses=masses,\n",
    "                                                     filters_color=('MKO/NSFCam.H', 'MKO/NSFCam.Lp'),\n",
    "                                                     filter_mag='MKO/NSFCam.Lp')\n",
    "\n",
    "    boxes.append(modelcolor1)\n",
    "    boxes.append(modelcolor2)"
   ]
  },
  {
   "cell_type": "markdown",
   "metadata": {},
   "source": [
    "Some warnings are printed when $T_\\mathrm{eff}$ or $\\log(g)$ from the evolutionary tracks are outside the parameter boundaries of the grid with spectra. Also, some of the chosen masses are below the lowest masses that are available in the evolutionary tracks. Therefore these colors and magnitudes are set to NaN and will be ignored when plotting the isochrones later one."
   ]
  },
  {
   "cell_type": "markdown",
   "metadata": {},
   "source": [
    "## Synthetic photometry from blackbody spectra"
   ]
  },
  {
   "cell_type": "markdown",
   "metadata": {},
   "source": [
    "In addition to the isochrones, we also calculate colors and magnitudes for blackbody radiation. We start by creating an instance of [ReadPlanck](https://species.readthedocs.io/en/latest/species.read.html#species.read.read_planck.ReadPlanck) for a wavelength range between 0.5 and 10 $\\mu$m."
   ]
  },
  {
   "cell_type": "code",
   "execution_count": 11,
   "metadata": {},
   "outputs": [],
   "source": [
    "read_planck = species.ReadPlanck(wavel_range=(0.5, 10.))"
   ]
  },
  {
   "cell_type": "markdown",
   "metadata": {},
   "source": [
    "Next, we use the [get_color_magnitude](https://species.readthedocs.io/en/latest/species.read.html#species.read.read_planck.ReadPlanck.get_color_magnitude) methode to calculate the synthetic photometry for the same filters from before. Here we chose 100 logarithmically-spaced temperatures between 100 and 10000 K. The radius, which only impacts the absolute magnitude, is set to 1 $R_\\mathrm{J}$."
   ]
  },
  {
   "cell_type": "code",
   "execution_count": 12,
   "metadata": {},
   "outputs": [],
   "source": [
    "color_planck = read_planck.get_color_magnitude(temperatures=np.logspace(2, 4, 100),\n",
    "                                               radius=1.,\n",
    "                                               filters_color=('MKO/NSFCam.H', 'MKO/NSFCam.Lp'),\n",
    "                                               filter_mag='MKO/NSFCam.Lp')"
   ]
  },
  {
   "cell_type": "markdown",
   "metadata": {},
   "source": [
    "The returned [ColorMagBox](https://species.readthedocs.io/en/latest/species.core.html#species.core.box.ColorMagBox) is added to the list of `boxes`."
   ]
  },
  {
   "cell_type": "code",
   "execution_count": 13,
   "metadata": {},
   "outputs": [],
   "source": [
    "boxes.append(color_planck)"
   ]
  },
  {
   "cell_type": "markdown",
   "metadata": {},
   "source": [
    "## Photometry of directly imaged objects"
   ]
  },
  {
   "cell_type": "markdown",
   "metadata": {},
   "source": [
    "We will also create a list with names and filters of the directly imaged planets and brown dwarfs that we want to show. The [list_companions](https://species.readthedocs.io/en/latest/species.data.html#species.data.database.Database.list_companions) method of [Database](https://species.readthedocs.io/en/latest/species.data.html#species.data.database.Database) can be used to get an overview of all available photometric data in the database. We create a list with object names and filters for the colors and magnitudes that we want to include in the color-magnitude diagram."
   ]
  },
  {
   "cell_type": "code",
   "execution_count": 14,
   "metadata": {},
   "outputs": [],
   "source": [
    "objects = [('HR 8799 b', 'Keck/NIRC2.H', 'Paranal/NACO.Lp', 'Paranal/NACO.Lp'),\n",
    "           ('HR 8799 c', 'Keck/NIRC2.H', 'Paranal/NACO.Lp', 'Paranal/NACO.Lp'),\n",
    "           ('HR 8799 d', 'Keck/NIRC2.H', 'Paranal/NACO.Lp', 'Paranal/NACO.Lp'),\n",
    "           ('HR 8799 e', 'Paranal/SPHERE.IRDIS_D_H23_2', 'Paranal/NACO.Lp', 'Paranal/NACO.Lp'),\n",
    "           ('kappa And b', 'Subaru/CIAO.H', 'Keck/NIRC2.Lp', 'Keck/NIRC2.Lp'),\n",
    "           ('GSC 06214 B', 'MKO/NSFCam.H', 'MKO/NSFCam.Lp', 'MKO/NSFCam.Lp'),\n",
    "           ('ROXs 42 Bb', 'Keck/NIRC2.H', 'Keck/NIRC2.Lp', 'Keck/NIRC2.Lp'),\n",
    "           ('51 Eri b', 'MKO/NSFCam.H', 'Keck/NIRC2.Lp', 'Keck/NIRC2.Lp'),\n",
    "           ('2M 1207 B', 'Paranal/NACO.H', 'Paranal/NACO.Lp', 'Paranal/NACO.Lp'),\n",
    "           ('2M0103 ABb', 'Paranal/NACO.H', 'Paranal/NACO.Lp', 'Paranal/NACO.Lp'),\n",
    "           ('1RXS 1609 B', 'Gemini/NIRI.H-G0203w', 'Gemini/NIRI.Lprime-G0207w', 'Gemini/NIRI.Lprime-G0207w'),\n",
    "           ('beta Pic b', 'Paranal/NACO.H', 'Paranal/NACO.Lp', 'Paranal/NACO.Lp'),\n",
    "           ('HIP 65426 b', 'Paranal/SPHERE.IRDIS_D_H23_2', 'Paranal/NACO.Lp', 'Paranal/NACO.Lp'),\n",
    "           ('PZ Tel B', 'Paranal/NACO.H', 'Paranal/NACO.Lp', 'Paranal/NACO.Lp'),\n",
    "           ('HD 206893 B', 'Paranal/SPHERE.IRDIS_B_H', 'Paranal/NACO.Lp', 'Paranal/NACO.Lp')]"
   ]
  },
  {
   "cell_type": "markdown",
   "metadata": {},
   "source": [
    "## Reading color-magnitude data"
   ]
  },
  {
   "cell_type": "markdown",
   "metadata": {},
   "source": [
    "The colors and magnitude of the Database of Ultracool Parallaxes are read from the database by creating an object of [ReadColorMagnitude](https://species.readthedocs.io/en/latest/species.read.html#species.read.read_color.ReadColorMagnitude)."
   ]
  },
  {
   "cell_type": "code",
   "execution_count": 15,
   "metadata": {},
   "outputs": [],
   "source": [
    "colormag = species.ReadColorMagnitude(library='vlm-plx',\n",
    "                                      filters_color=('MKO/NSFCam.H', 'MKO/NSFCam.Lp'),\n",
    "                                      filter_mag='MKO/NSFCam.Lp')"
   ]
  },
  {
   "cell_type": "markdown",
   "metadata": {},
   "source": [
    "And then extracting the [ColorMagBox](https://species.readthedocs.io/en/latest/species.core.html#species.core.box.ColorMagBox) objects for field and young/low-gravity objects separately."
   ]
  },
  {
   "cell_type": "code",
   "execution_count": 16,
   "metadata": {},
   "outputs": [],
   "source": [
    "color_field = colormag.get_color_magnitude(object_type='field')\n",
    "color_young = colormag.get_color_magnitude(object_type='young')"
   ]
  },
  {
   "cell_type": "markdown",
   "metadata": {},
   "source": [
    "Also these [ColorMagBox](https://species.readthedocs.io/en/latest/species.core.html#species.core.box.ColorMagBox) objects are added to the list of `boxes`."
   ]
  },
  {
   "cell_type": "code",
   "execution_count": 17,
   "metadata": {},
   "outputs": [],
   "source": [
    "boxes.append(color_field)\n",
    "boxes.append(color_young)"
   ]
  },
  {
   "cell_type": "markdown",
   "metadata": {},
   "source": [
    "## Plotting a color-magnitude diagram"
   ]
  },
  {
   "cell_type": "markdown",
   "metadata": {},
   "source": [
    "The color-magnitude diagram is now plotted with the [plot_color_magnitude](https://species.readthedocs.io/en/latest/species.plot.html#species.plot.plot_color.plot_color_magnitude) function. The list with `boxes` is provided as argument of the `boxes` parameter. The list with `objects` is provided separately as argument of `objects`. See the [API documentation](https://species.readthedocs.io/en/latest/species.plot.html#species.plot.plot_color.plot_color_magnitude) of `plot_color_magnitude` for further details on the various parameters."
   ]
  },
  {
   "cell_type": "code",
   "execution_count": 18,
   "metadata": {},
   "outputs": [
    {
     "name": "stdout",
     "output_type": "stream",
     "text": [
      "Plotting color-magnitude diagram..."
     ]
    },
    {
     "data": {
      "image/png": "[encoded data removed]",
      "text/plain": [
       "<Figure size 288x345.6 with 2 Axes>"
      ]
     },
     "metadata": {
      "needs_background": "light"
     },
     "output_type": "display_data"
    },
    {
     "name": "stdout",
     "output_type": "stream",
     "text": [
      " [DONE]\n"
     ]
    }
   ],
   "source": [
    "fig = species.plot_color_magnitude(boxes=boxes,\n",
    "                                   objects=objects,\n",
    "                                   mass_labels={'ames-cond': [(3., 'right'), (5., 'right'), (10., 'left'), (20., 'right')],\n",
    "                                                'ames-dusty': [(10., 'right'), (15., 'left'), (20., 'left')]},\n",
    "                                   teff_labels={'planck': [(1500., 'right'), (2000., 'right'), (3000., 'left')]},\n",
    "                                   companion_labels=False,\n",
    "                                   field_range=('late M', 'late T'),\n",
    "                                   label_x=r'H $-$ L$^\\prime$',\n",
    "                                   label_y=r'M$_\\mathregular{L\\prime}$',\n",
    "                                   xlim=(0.3, 4.),\n",
    "                                   ylim=(15., 7.1),\n",
    "                                   offset=(-0.08, -0.09),\n",
    "                                   legend=(0.04, 0.04),\n",
    "                                   output=None)"
   ]
  },
  {
   "cell_type": "markdown",
   "metadata": {},
   "source": [
    "The [plot_color_magnitude](https://species.readthedocs.io/en/latest/species.plot.html#species.plot.plot_color.plot_color_magnitude) function returned the [Figure](https://matplotlib.org/stable/api/figure_api.html#matplotlib.figure.Figure) object of the plot. The functionalities of [Matplotlib](https://matplotlib.org/stable/index.html) can be used for further customization of the plot. For example, the axes of the plot are stored at the `axes` attribute of `Figure`."
   ]
  },
  {
   "cell_type": "code",
   "execution_count": 19,
   "metadata": {},
   "outputs": [
    {
     "data": {
      "text/plain": [
       "[<Axes: xlabel='H $-$ L$^\\\\prime$', ylabel='M$_\\\\mathregular{L\\\\prime}$'>,\n",
       " <Axes: >]"
      ]
     },
     "execution_count": 19,
     "metadata": {},
     "output_type": "execute_result"
    }
   ],
   "source": [
    "fig.axes"
   ]
  }
 ],
 "metadata": {
  "kernelspec": {
   "display_name": "Python 3 (ipykernel)",
   "language": "python",
   "name": "python3"
  },
  "language_info": {
   "codemirror_mode": {
    "name": "ipython",
    "version": 3
   },
   "file_extension": ".py",
   "mimetype": "text/x-python",
   "name": "python",
   "nbconvert_exporter": "python",
   "pygments_lexer": "ipython3",
   "version": "3.10.0"
  }
 },
 "nbformat": 4,
 "nbformat_minor": 2
}
