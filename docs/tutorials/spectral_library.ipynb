{
 "cells": [
  {
   "cell_type": "markdown",
   "metadata": {},
   "source": [
    "# Library with empirical spectra"
   ]
  },
  {
   "cell_type": "markdown",
   "metadata": {},
   "source": [
    "In this tutorial, we will have a look at some brown dwarf spectra from the [IRTF library](http://irtfweb.ifa.hawaii.edu/~spex/IRTF_Spectral_Library/). We will also calculate synthetic fluxes and combine the spectra and photometric fluxes in a plot."
   ]
  },
  {
   "cell_type": "markdown",
   "metadata": {},
   "source": [
    "## Getting started"
   ]
  },
  {
   "cell_type": "markdown",
   "metadata": {},
   "source": [
    "We start by importing [species](https://species.readthedocs.io/en/latest/species.html) and initiating the database with the [SpeciesInit](https://species.readthedocs.io/en/latest/species.core.html#species.core.init.SpeciesInit) class."
   ]
  },
  {
   "cell_type": "code",
   "execution_count": 1,
   "metadata": {},
   "outputs": [
    {
     "name": "stdout",
     "output_type": "stream",
     "text": [
      "==============\n",
      "species v0.5.5\n",
      "==============\n",
      "Working folder: /Users/tomasstolker/applications/species/docs/tutorials\n",
      "Creating species_config.ini... [DONE]\n",
      "Configuration settings:\n",
      "   - Database: /Users/tomasstolker/applications/species/docs/tutorials/species_database.hdf5\n",
      "   - Data folder: /Users/tomasstolker/applications/species/docs/tutorials/data\n",
      "   - Interpolation method: linear\n",
      "   - Magnitude of Vega: 0.03\n",
      "Creating species_database.hdf5... [DONE]\n",
      "Creating data folder... [DONE]\n"
     ]
    },
    {
     "data": {
      "text/plain": [
       "<species.core.init.SpeciesInit at 0x110d7f4c0>"
      ]
     },
     "execution_count": 1,
     "metadata": {},
     "output_type": "execute_result"
    }
   ],
   "source": [
    "import species\n",
    "species.SpeciesInit()"
   ]
  },
  {
   "cell_type": "markdown",
   "metadata": {},
   "source": [
    "## Adding a spectral library to the database"
   ]
  },
  {
   "cell_type": "markdown",
   "metadata": {},
   "source": [
    "Next, we create an instance of  [Database](https://species.readthedocs.io/en/latest/species.data.html#species.data.database.Database), which is used for adding data to the database."
   ]
  },
  {
   "cell_type": "code",
   "execution_count": 2,
   "metadata": {},
   "outputs": [],
   "source": [
    "database = species.Database()"
   ]
  },
  {
   "cell_type": "markdown",
   "metadata": {},
   "source": [
    "We will now download and add the spectral library. For [IRTF](http://irtfweb.ifa.hawaii.edu/~spex/IRTF_Spectral_Library/) spectra, we can set the spectral types that we want to use. The parallax will be queried from [SIMBAD](http://simbad.u-strasbg.fr/simbad/) and several [VizieR](https://vizier.u-strasbg.fr/viz-bin/VizieR) catalogs. A warning will be printed in case no parallax can be retrieved and a `NaN` is stored. Therefore, computing an absolute, synthetic magnitude from these spectra will not be possible."
   ]
  },
  {
   "cell_type": "code",
   "execution_count": 3,
   "metadata": {},
   "outputs": [
    {
     "name": "stdout",
     "output_type": "stream",
     "text": [
      "Downloading IRTF Spectral Library - L dwarfs (850 kB)... [DONE]\n",
      "Downloading IRTF Spectral Library - T dwarfs (100 kB)... [DONE]\n",
      "Unpacking IRTF Spectral Library... [DONE]\n",
      "Adding spectra... [DONE]                   \n"
     ]
    },
    {
     "name": "stderr",
     "output_type": "stream",
     "text": [
      "/Users/tomasstolker/.pyenv/versions/3.10.0/envs/species3.10/lib/python3.10/site-packages/astroquery/simbad/core.py:135: UserWarning: Warning: The script line number 3 raised an error (recorded in the `errors` attribute of the result table): 'DENIS-P 025503.3-470049.0' this identifier has an incorrect format for catalog: \tDENIS : Deep Near-Infrared Survey\n",
      "  warnings.warn(\"Warning: The script line number %i raised \"\n",
      "/Users/tomasstolker/.pyenv/versions/3.10.0/envs/species3.10/lib/python3.10/site-packages/astroquery/simbad/core.py:135: UserWarning: Warning: The script line number 3 raised an error (recorded in the `errors` attribute of the result table): Identifier not found in the database : 2MASS J05591915-1404489\n",
      "  warnings.warn(\"Warning: The script line number %i raised \"\n"
     ]
    }
   ],
   "source": [
    "database.add_spectra(spec_library='irtf', sptypes=['L', 'T'])"
   ]
  },
  {
   "cell_type": "markdown",
   "metadata": {},
   "source": [
    "## Reading a spectral library"
   ]
  },
  {
   "cell_type": "markdown",
   "metadata": {},
   "source": [
    "To read the spectra from the database, we first create an instance of [ReadSpectrum](https://species.readthedocs.io/en/latest/species.read.html#species.read.read_spectrum.ReadSpectrum). The full spectra are read if the argument of `filter_name` is set to `None`."
   ]
  },
  {
   "cell_type": "code",
   "execution_count": 4,
   "metadata": {},
   "outputs": [],
   "source": [
    "read_spectrum = species.ReadSpectrum(spec_library='irtf', filter_name=None)"
   ]
  },
  {
   "cell_type": "markdown",
   "metadata": {},
   "source": [
    "The spectra are extracted with the [get_spectrum](https://species.readthedocs.io/en/latest/species.read.html#species.read.read_spectrum.ReadSpectrum.get_spectrum) method and by providing a list of spectral types as argument for `sptypes`."
   ]
  },
  {
   "cell_type": "code",
   "execution_count": 5,
   "metadata": {},
   "outputs": [],
   "source": [
    "specbox = read_spectrum.get_spectrum(sptypes=['L0', 'L1'])"
   ]
  },
  {
   "cell_type": "markdown",
   "metadata": {},
   "source": [
    "The method returns a [SpectrumBox](https://species.readthedocs.io/en/latest/species.core.html#species.core.box.SpectrumBox) with the requested data."
   ]
  },
  {
   "cell_type": "markdown",
   "metadata": {},
   "source": [
    "## Opening a SpectrumBox"
   ]
  },
  {
   "cell_type": "markdown",
   "metadata": {},
   "source": [
    "Let's have a look at the attributes that are stored in the [SpectrumBox](https://species.readthedocs.io/en/latest/species.core.html#species.core.box.SpectrumBox) by using the [open_box](https://species.readthedocs.io/en/latest/species.core.html#species.core.box.Box.open_box) method, which can be used on any of the [Box](https://species.readthedocs.io/en/latest/species.core.html#species.core.box.Box) objects. Among others, it contains the spectrum, the original names (from the IRTF library) and SIMBAD names, and the distances."
   ]
  },
  {
   "cell_type": "code",
   "execution_count": 6,
   "metadata": {},
   "outputs": [
    {
     "name": "stdout",
     "output_type": "stream",
     "text": [
      "Opening SpectrumBox...\n",
      "spectrum = None\n",
      "wavelength = [array([0.8125008, 0.8125008, 0.8127338, ..., 4.126095 , 4.1269007,\n",
      "       4.127706 ], dtype=float32), array([0.93558633, 0.93558633, 0.93585825, ..., 2.416591  , 2.4171278 ,\n",
      "       2.417665  ], dtype=float32), array([0.8106775 , 0.8106775 , 0.81091094, ..., 4.113586  , 4.1143913 ,\n",
      "       4.1151967 ], dtype=float32)]\n",
      "flux = [array([1.8895840e-14, 1.8895840e-14, 2.1758479e-14, ..., 3.7088523e-15,\n",
      "       4.1113438e-15, 4.4284915e-15], dtype=float32), array([-1.0867816e-15, -1.0867816e-15,  2.5373139e-15, ...,\n",
      "        2.0060095e-15,  2.1450817e-15,  2.2615936e-15], dtype=float32), array([3.8497135e-15, 3.8497135e-15, 2.5441878e-15, ..., 1.3200795e-15,\n",
      "       1.2305833e-15, 1.0569799e-15], dtype=float32)]\n",
      "error = [array([2.5401353e-15, 2.5401353e-15, 2.8612678e-15, ..., 4.1515258e-16,\n",
      "       4.3247181e-16, 4.4612945e-16], dtype=float32), array([2.2947999e-15, 2.2947999e-15, 1.3184451e-15, ..., 2.5160439e-16,\n",
      "       1.7856300e-16, 9.8540571e-17], dtype=float32), array([1.9933140e-15, 1.9933140e-15, 2.2894352e-15, ..., 3.6852164e-16,\n",
      "       3.4700822e-16, 3.5634480e-16], dtype=float32)]\n",
      "name = ['2MASS J07464256+2000321', '2MASS J02081833+2542533', '2MASS J14392836+1929149']\n",
      "simbad = ['LSPM J0746+2000', '2MASS J02081833+2542533', '2MASS J14392836+1929149']\n",
      "sptype = ['L0', 'L1', 'L1']\n",
      "distance = None\n",
      "spec_res = [nan, nan, nan]\n",
      "spec_library = irtf\n",
      "parallax = [(array([81.1]), array([0.9])), (43.0992, 0.3249), (array([69.6]), array([0.5]))]\n"
     ]
    }
   ],
   "source": [
    "specbox.open_box()"
   ]
  },
  {
   "cell_type": "markdown",
   "metadata": {},
   "source": [
    "## Synthetic photometry"
   ]
  },
  {
   "cell_type": "markdown",
   "metadata": {},
   "source": [
    "To calculate synthetic fluxes, we use again the [ReadSpectrum](https://species.readthedocs.io/en/latest/species.read.html#species.read.read_spectrum.ReadSpectrum) class but we now also set the argument of `filter_name` to a filter as listed by the [SVO Filter Profile Service](http://svo2.cab.inta-csic.es/svo/theory/fps/). In this example, use an H-band filter from the MKO system."
   ]
  },
  {
   "cell_type": "code",
   "execution_count": 7,
   "metadata": {},
   "outputs": [
    {
     "name": "stdout",
     "output_type": "stream",
     "text": [
      "Adding filter: MKO/NSFCam.H... [DONE]\n"
     ]
    }
   ],
   "source": [
    "read_spectrum = species.ReadSpectrum(spec_library='irtf', filter_name='MKO/NSFCam.H')"
   ]
  },
  {
   "cell_type": "markdown",
   "metadata": {},
   "source": [
    "The flux is now calculated with the [get_flux](https://species.readthedocs.io/en/latest/species.read.html#species.read.read_spectrum.ReadSpectrum.get_flux) method by again selecting the L0- and L1-type objects."
   ]
  },
  {
   "cell_type": "code",
   "execution_count": 8,
   "metadata": {},
   "outputs": [
    {
     "name": "stderr",
     "output_type": "stream",
     "text": [
      "Downloading data from 'https://archive.stsci.edu/hlsps/reference-atlases/cdbs/current_calspec/alpha_lyr_stis_011.fits' to file '/Users/tomasstolker/applications/species/docs/tutorials/data/alpha_lyr_stis_011.fits'.\n",
      "100%|████████████████████████████████████████| 288k/288k [00:00<00:00, 156MB/s]"
     ]
    },
    {
     "name": "stdout",
     "output_type": "stream",
     "text": [
      "Adding Vega spectrum..."
     ]
    },
    {
     "name": "stderr",
     "output_type": "stream",
     "text": [
      "\n"
     ]
    },
    {
     "name": "stdout",
     "output_type": "stream",
     "text": [
      " [DONE]\n",
      "Reference: Bohlin et al. 2014, PASP, 126\n",
      "URL: https://ui.adsabs.harvard.edu/abs/2014PASP..126..711B/abstract\n"
     ]
    }
   ],
   "source": [
    "photbox = read_spectrum.get_flux(sptypes=['L0', 'L1'])"
   ]
  },
  {
   "cell_type": "markdown",
   "metadata": {},
   "source": [
    "Let's have a look at the content of the returned [PhotometryBox](https://species.readthedocs.io/en/latest/species.core.html#species.core.box.SpectrumBox)."
   ]
  },
  {
   "cell_type": "code",
   "execution_count": 9,
   "metadata": {},
   "outputs": [
    {
     "name": "stdout",
     "output_type": "stream",
     "text": [
      "Opening PhotometryBox...\n",
      "name = ['2MASS J07464256+2000321', '2MASS J02081833+2542533', '2MASS J14392836+1929149']\n",
      "sptype = ['L0', 'L1', 'L1']\n",
      "wavelength = [1.62982596 1.62982596 1.62982596]\n",
      "flux = [[4.58844233e-14 8.37910450e-18]\n",
      " [6.09467685e-15 5.98150313e-18]\n",
      " [1.75018643e-14 5.29699886e-18]]\n",
      "app_mag = None\n",
      "abs_mag = None\n",
      "filter_name = ['MKO/NSFCam.H' 'MKO/NSFCam.H' 'MKO/NSFCam.H']\n"
     ]
    }
   ],
   "source": [
    "photbox.open_box()"
   ]
  },
  {
   "cell_type": "markdown",
   "metadata": {},
   "source": [
    "## Plotting spectra and synthetic fluxes"
   ]
  },
  {
   "cell_type": "markdown",
   "metadata": {},
   "source": [
    "Now that we have created a [SpectrumBox](https://species.readthedocs.io/en/latest/species.core.html#species.core.box.SpectrumBox) and [PhotometryBox](https://species.readthedocs.io/en/latest/species.core.html#species.core.box.PhotometryBox), we pass them to the [plot_spectrum](https://species.readthedocs.io/en/latest/species.plot.html#species.plot.plot_spectrum.plot_spectrum) function. The uncertainties on the spectral fluxes have been propagated into the synthetic photometric flux, but the uncertainties are smaller than the plotted markers. The horizontal \"error bars\" of the fluxes indicate the FWHM of the filter profile."
   ]
  },
  {
   "cell_type": "code",
   "execution_count": 10,
   "metadata": {},
   "outputs": [
    {
     "name": "stdout",
     "output_type": "stream",
     "text": [
      "Adding filter: MKO/NSFCam.J... [DONE]\n",
      "Adding filter: MKO/NSFCam.Ks... [DONE]\n",
      "Plotting spectrum..."
     ]
    },
    {
     "data": {
      "image/png": "[encoded data removed]",
      "text/plain": [
       "<Figure size 504x216 with 2 Axes>"
      ]
     },
     "metadata": {
      "needs_background": "light"
     },
     "output_type": "display_data"
    },
    {
     "name": "stdout",
     "output_type": "stream",
     "text": [
      " [DONE]\n"
     ]
    }
   ],
   "source": [
    "fig = species.plot_spectrum(boxes=[specbox, photbox],\n",
    "                            filters=['MKO/NSFCam.J', 'MKO/NSFCam.H', 'MKO/NSFCam.Ks'],\n",
    "                            xlim=(0.9, 2.5),\n",
    "                            ylim=(-6e-15, 8.5e-14),\n",
    "                            offset=(-0.14, -0.03),\n",
    "                            legend={'loc':'upper right', 'frameon': False, 'fontsize': 11.},\n",
    "                            figsize=(7., 3.),\n",
    "                            output=None)"
   ]
  },
  {
   "cell_type": "markdown",
   "metadata": {},
   "source": [
    "The [plot_spectrum](https://species.readthedocs.io/en/latest/species.plot.html#species.plot.plot_spectrum.plot_spectrum) function returned the [Figure](https://matplotlib.org/stable/api/figure_api.html#matplotlib.figure.Figure) object of the plot. The functionalities of [Matplotlib](https://matplotlib.org/stable/index.html) can be used for further customization of the plot. For example, the axes of the plot are stored at the `axes` attribute of `Figure`."
   ]
  },
  {
   "cell_type": "code",
   "execution_count": 11,
   "metadata": {},
   "outputs": [
    {
     "data": {
      "text/plain": [
       "[<Axes: xlabel='Wavelength (μm)', ylabel='$F_\\\\lambda$ (10$^{-14}$ W m$^{-2}$ μm$^{-1}$)'>,\n",
       " <Axes: ylabel='$T_\\\\lambda$'>]"
      ]
     },
     "execution_count": 11,
     "metadata": {},
     "output_type": "execute_result"
    }
   ],
   "source": [
    "fig.axes"
   ]
  }
 ],
 "metadata": {
  "kernelspec": {
   "display_name": "Python 3 (ipykernel)",
   "language": "python",
   "name": "python3"
  },
  "language_info": {
   "codemirror_mode": {
    "name": "ipython",
    "version": 3
   },
   "file_extension": ".py",
   "mimetype": "text/x-python",
   "name": "python",
   "nbconvert_exporter": "python",
   "pygments_lexer": "ipython3",
   "version": "3.10.0"
  }
 },
 "nbformat": 4,
 "nbformat_minor": 2
}
